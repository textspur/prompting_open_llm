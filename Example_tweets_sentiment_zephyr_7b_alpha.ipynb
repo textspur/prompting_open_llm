{
  "cells": [
    {
      "cell_type": "markdown",
      "metadata": {
        "id": "view-in-github",
        "colab_type": "text"
      },
      "source": [
        "<a href=\"https://colab.research.google.com/github/textspur/prompting_open_llm/blob/main/Example_tweets_sentiment_zephyr_7b_alpha.ipynb\" target=\"_parent\"><img src=\"https://colab.research.google.com/assets/colab-badge.svg\" alt=\"Open In Colab\"/></a>"
      ]
    },
    {
      "cell_type": "markdown",
      "metadata": {
        "id": "X2zgpC_gb_S6"
      },
      "source": [
        "# Install\n",
        "\n",
        "The script starts by downloading the necessary libraries."
      ]
    },
    {
      "cell_type": "code",
      "execution_count": null,
      "metadata": {
        "colab": {
          "base_uri": "https://localhost:8080/"
        },
        "id": "qMmNZbhVP55q",
        "outputId": "e3c561af-87f0-4c33-9a40-c141970e68ba"
      },
      "outputs": [
        {
          "output_type": "stream",
          "name": "stdout",
          "text": [
            "  Installing build dependencies ... \u001b[?25l\u001b[?25hdone\n",
            "  Getting requirements to build wheel ... \u001b[?25l\u001b[?25hdone\n",
            "  Preparing metadata (pyproject.toml) ... \u001b[?25l\u001b[?25hdone\n",
            "  Installing build dependencies ... \u001b[?25l\u001b[?25hdone\n",
            "  Getting requirements to build wheel ... \u001b[?25l\u001b[?25hdone\n",
            "  Preparing metadata (pyproject.toml) ... \u001b[?25l\u001b[?25hdone\n",
            "\u001b[31mERROR: pip's dependency resolver does not currently take into account all the packages that are installed. This behaviour is the source of the following dependency conflicts.\n",
            "torchaudio 2.1.0+cu118 requires torch==2.1.0, but you have torch 2.1.1 which is incompatible.\n",
            "torchdata 0.7.0 requires torch==2.1.0, but you have torch 2.1.1 which is incompatible.\n",
            "torchtext 0.16.0 requires torch==2.1.0, but you have torch 2.1.1 which is incompatible.\n",
            "torchvision 0.16.0+cu118 requires torch==2.1.0, but you have torch 2.1.1 which is incompatible.\n",
            "xformers 0.0.22.post7 requires torch==2.1.0, but you have torch 2.1.1 which is incompatible.\u001b[0m\u001b[31m\n",
            "\u001b[0mRequirement already satisfied: wget in /usr/local/lib/python3.10/dist-packages (3.2)\n"
          ]
        }
      ],
      "source": [
        "### Installation on Colab\n",
        "!pip install -q -U bitsandbytes\n",
        "!pip install -q -U git+https://github.com/huggingface/transformers.git\n",
        "!pip install -q -U git+https://github.com/huggingface/accelerate.git\n",
        "!pip install -q -U safetensors\n",
        "!pip install -q -U torch\n",
        "!pip install -q -U xformers\n",
        "!pip install -q -U langchain\n",
        "!pip install wget"
      ]
    },
    {
      "cell_type": "markdown",
      "metadata": {
        "id": "iZ0h8M9iAk2R"
      },
      "source": [
        "# Access Google Drive to save results"
      ]
    },
    {
      "cell_type": "code",
      "execution_count": null,
      "metadata": {
        "id": "JdMYgdsk-c0l",
        "colab": {
          "base_uri": "https://localhost:8080/"
        },
        "outputId": "db8da87a-970c-4e13-de49-23a61229d2e9"
      },
      "outputs": [
        {
          "output_type": "stream",
          "name": "stdout",
          "text": [
            "Drive already mounted at /content/drive; to attempt to forcibly remount, call drive.mount(\"/content/drive\", force_remount=True).\n"
          ]
        }
      ],
      "source": [
        "import os\n",
        "from datetime import datetime\n",
        "\n",
        "from google.colab import drive\n",
        "drive.mount('/content/drive')\n"
      ]
    },
    {
      "cell_type": "code",
      "execution_count": null,
      "metadata": {
        "id": "V2dv0G4D-RQe"
      },
      "outputs": [],
      "source": [
        "output_dir = \"/content/drive/My Drive/LLM_Prompting/Tweets/LLM_Prompts_Tweets/results/zephyr-7b-alpha_20231206\"\n",
        "if not os.path.exists(output_dir):\n",
        "    os.makedirs(output_dir)"
      ]
    },
    {
      "cell_type": "markdown",
      "metadata": {
        "id": "Ay8D_PDzu7nC"
      },
      "source": [
        "# Load Data"
      ]
    },
    {
      "cell_type": "code",
      "execution_count": null,
      "metadata": {
        "id": "mKLunY5ztDbK",
        "colab": {
          "base_uri": "https://localhost:8080/"
        },
        "outputId": "8cf23e89-fc19-4032-8976-9ee69f7cefd5"
      },
      "outputs": [
        {
          "output_type": "stream",
          "name": "stdout",
          "text": [
            "                   id sentiment  \\\n",
            "0  801989080477154944   neutral   \n",
            "1  801989272341453952  positive   \n",
            "2  801990978424962944  positive   \n",
            "3  801996232553963008  positive   \n",
            "4  801998343442407040   neutral   \n",
            "\n",
            "                                                text  \n",
            "0  #ArianaGrande Ari By Ariana Grande 80% Full ht...  \n",
            "1  Ariana Grande KIIS FM Yours Truly CD listening...  \n",
            "2  Ariana Grande White House Easter Egg Roll in W...  \n",
            "3  #CD #Musics Ariana Grande Sweet Like Candy 3.4...  \n",
            "4  SIDE TO SIDE 😘 @arianagrande #sidetoside #aria...  \n",
            "Length of dataframe df:  12284\n",
            "Length of dataframe df:  12284\n",
            "Length of dataframe df:  12284\n",
            "Length of dataframe df:  12284\n",
            "Counts of values of sentiment column in dataframe df: \n",
            " neutral     5937\n",
            "negative    3972\n",
            "positive    2375\n",
            "Name: sentiment, dtype: int64\n",
            "Counts of values of sentiment column in dataframe df: \n",
            " neutral     48.331162\n",
            "negative    32.334744\n",
            "positive    19.334093\n",
            "Name: sentiment, dtype: float64\n",
            "12284\n",
            "500\n",
            "Counts of values of sentiment column in dataframe df_random_sample500: \n",
            " neutral     227\n",
            "negative    171\n",
            "positive    102\n",
            "Name: sentiment, dtype: int64\n",
            "Counts of values of sentiment column in dataframe df_random_sample500: \n",
            " neutral     45.4\n",
            "negative    34.2\n",
            "positive    20.4\n",
            "Name: sentiment, dtype: float64\n"
          ]
        }
      ],
      "source": [
        "import pandas as pd\n",
        "import requests\n",
        "\n",
        "# Define the URL and fetch the data\n",
        "url = \"https://raw.githubusercontent.com/cbaziotis/datastories-semeval2017-task4/master/dataset/Subtask_A/gold/SemEval2017-task4-test.subtask-A.english.txt\"\n",
        "response = requests.get(url)\n",
        "response.raise_for_status()  # Check if the request was successful\n",
        "\n",
        "# Split the response text into lines and then split each line by tab to get the data\n",
        "data = [line.split('\\t') for line in response.text.strip().split('\\n')]\n",
        "\n",
        "# Load data into pandas DataFrame\n",
        "df = pd.DataFrame(data, columns=['id', 'sentiment', 'text'])\n",
        "\n",
        "\n",
        "# Checking the first few rows of the DataFrame\n",
        "print(df.head())\n",
        "print(\"Length of dataframe df: \", len(df))\n",
        "\n",
        "# delete empty rows if any\n",
        "print(\"Length of dataframe df: \", len(df))\n",
        "df = df.dropna(subset=['sentiment'])\n",
        "print(\"Length of dataframe df: \", len(df))\n",
        "\n",
        "# delete duplicates on id and text if any\n",
        "df = df.drop_duplicates(subset='id', keep=False)\n",
        "df = df.drop_duplicates(subset='text', keep=False)\n",
        "\n",
        "print(\"Length of dataframe df: \", len(df))\n",
        "print(\"Counts of values of sentiment column in dataframe df: \\n\", df['sentiment'].value_counts())\n",
        "\n",
        "value_counts_percent = df['sentiment'].value_counts(normalize=True) * 100\n",
        "print(\"Counts of values of sentiment column in dataframe df: \\n\", value_counts_percent)\n",
        "\n",
        "print(len(df))\n",
        "#df_random_sample10 = df.sample(n=10, random_state=1)\n",
        "\n",
        "df_random_sample500 = df.sample(n=500, random_state=1)\n",
        "print(len(df_random_sample500))\n",
        "print(\"Counts of values of sentiment column in dataframe df_random_sample500: \\n\", df_random_sample500['sentiment'].value_counts())\n",
        "value_counts_percent = df_random_sample500['sentiment'].value_counts(normalize=True) * 100\n",
        "print(\"Counts of values of sentiment column in dataframe df_random_sample500: \\n\", value_counts_percent)\n",
        "\n",
        "df = df_random_sample500"
      ]
    },
    {
      "cell_type": "code",
      "source": [
        "df"
      ],
      "metadata": {
        "colab": {
          "base_uri": "https://localhost:8080/",
          "height": 424
        },
        "id": "S_qRuS9xHoel",
        "outputId": "f74393cd-1b44-4ef6-c07e-2d4b6436ee98"
      },
      "execution_count": null,
      "outputs": [
        {
          "output_type": "execute_result",
          "data": {
            "text/plain": [
              "                       id sentiment  \\\n",
              "6755   802253826883514368   neutral   \n",
              "3804   802124452968414976  positive   \n",
              "8934   799929420853219328  positive   \n",
              "4207   805686141022334976   neutral   \n",
              "11787  805526263418884097  negative   \n",
              "...                   ...       ...   \n",
              "490    802195201456569984  positive   \n",
              "946    802207427424845056  positive   \n",
              "7950   802340324840509441  positive   \n",
              "10136  802422711062560768  positive   \n",
              "2740   802191187478081024   neutral   \n",
              "\n",
              "                                                    text  \n",
              "6755   Galaxy Note 4 On A Note 7 ROM Gets Samsung's R...  \n",
              "3804   The older, the better frase que solo aplica pa...  \n",
              "8934   Wow - the world as we know it is slowly turnin...  \n",
              "4207   @DAccampoFamily @CLF3rd abortion has nothing t...  \n",
              "11787  @ali @NolteNC @Reince CA voter registration ac...  \n",
              "...                                                  ...  \n",
              "490    @verynetwork wowzers!! superb prize!! 😍 #hatch...  \n",
              "946    Powerful. #MannequinChallenge https://t.co/goY...  \n",
              "7950   I've been listening to Leonard Cohen nonstop f...  \n",
              "10136  📷 Playing robots in the Himalayas https://t.co...  \n",
              "2740   Inside Expa Labs, #Uber co-founder's take on t...  \n",
              "\n",
              "[500 rows x 3 columns]"
            ],
            "text/html": [
              "\n",
              "  <div id=\"df-936b2e47-355d-4adf-9a52-8786f38fdf69\" class=\"colab-df-container\">\n",
              "    <div>\n",
              "<style scoped>\n",
              "    .dataframe tbody tr th:only-of-type {\n",
              "        vertical-align: middle;\n",
              "    }\n",
              "\n",
              "    .dataframe tbody tr th {\n",
              "        vertical-align: top;\n",
              "    }\n",
              "\n",
              "    .dataframe thead th {\n",
              "        text-align: right;\n",
              "    }\n",
              "</style>\n",
              "<table border=\"1\" class=\"dataframe\">\n",
              "  <thead>\n",
              "    <tr style=\"text-align: right;\">\n",
              "      <th></th>\n",
              "      <th>id</th>\n",
              "      <th>sentiment</th>\n",
              "      <th>text</th>\n",
              "    </tr>\n",
              "  </thead>\n",
              "  <tbody>\n",
              "    <tr>\n",
              "      <th>6755</th>\n",
              "      <td>802253826883514368</td>\n",
              "      <td>neutral</td>\n",
              "      <td>Galaxy Note 4 On A Note 7 ROM Gets Samsung's R...</td>\n",
              "    </tr>\n",
              "    <tr>\n",
              "      <th>3804</th>\n",
              "      <td>802124452968414976</td>\n",
              "      <td>positive</td>\n",
              "      <td>The older, the better frase que solo aplica pa...</td>\n",
              "    </tr>\n",
              "    <tr>\n",
              "      <th>8934</th>\n",
              "      <td>799929420853219328</td>\n",
              "      <td>positive</td>\n",
              "      <td>Wow - the world as we know it is slowly turnin...</td>\n",
              "    </tr>\n",
              "    <tr>\n",
              "      <th>4207</th>\n",
              "      <td>805686141022334976</td>\n",
              "      <td>neutral</td>\n",
              "      <td>@DAccampoFamily @CLF3rd abortion has nothing t...</td>\n",
              "    </tr>\n",
              "    <tr>\n",
              "      <th>11787</th>\n",
              "      <td>805526263418884097</td>\n",
              "      <td>negative</td>\n",
              "      <td>@ali @NolteNC @Reince CA voter registration ac...</td>\n",
              "    </tr>\n",
              "    <tr>\n",
              "      <th>...</th>\n",
              "      <td>...</td>\n",
              "      <td>...</td>\n",
              "      <td>...</td>\n",
              "    </tr>\n",
              "    <tr>\n",
              "      <th>490</th>\n",
              "      <td>802195201456569984</td>\n",
              "      <td>positive</td>\n",
              "      <td>@verynetwork wowzers!! superb prize!! 😍 #hatch...</td>\n",
              "    </tr>\n",
              "    <tr>\n",
              "      <th>946</th>\n",
              "      <td>802207427424845056</td>\n",
              "      <td>positive</td>\n",
              "      <td>Powerful. #MannequinChallenge https://t.co/goY...</td>\n",
              "    </tr>\n",
              "    <tr>\n",
              "      <th>7950</th>\n",
              "      <td>802340324840509441</td>\n",
              "      <td>positive</td>\n",
              "      <td>I've been listening to Leonard Cohen nonstop f...</td>\n",
              "    </tr>\n",
              "    <tr>\n",
              "      <th>10136</th>\n",
              "      <td>802422711062560768</td>\n",
              "      <td>positive</td>\n",
              "      <td>📷 Playing robots in the Himalayas https://t.co...</td>\n",
              "    </tr>\n",
              "    <tr>\n",
              "      <th>2740</th>\n",
              "      <td>802191187478081024</td>\n",
              "      <td>neutral</td>\n",
              "      <td>Inside Expa Labs, #Uber co-founder's take on t...</td>\n",
              "    </tr>\n",
              "  </tbody>\n",
              "</table>\n",
              "<p>500 rows × 3 columns</p>\n",
              "</div>\n",
              "    <div class=\"colab-df-buttons\">\n",
              "\n",
              "  <div class=\"colab-df-container\">\n",
              "    <button class=\"colab-df-convert\" onclick=\"convertToInteractive('df-936b2e47-355d-4adf-9a52-8786f38fdf69')\"\n",
              "            title=\"Convert this dataframe to an interactive table.\"\n",
              "            style=\"display:none;\">\n",
              "\n",
              "  <svg xmlns=\"http://www.w3.org/2000/svg\" height=\"24px\" viewBox=\"0 -960 960 960\">\n",
              "    <path d=\"M120-120v-720h720v720H120Zm60-500h600v-160H180v160Zm220 220h160v-160H400v160Zm0 220h160v-160H400v160ZM180-400h160v-160H180v160Zm440 0h160v-160H620v160ZM180-180h160v-160H180v160Zm440 0h160v-160H620v160Z\"/>\n",
              "  </svg>\n",
              "    </button>\n",
              "\n",
              "  <style>\n",
              "    .colab-df-container {\n",
              "      display:flex;\n",
              "      gap: 12px;\n",
              "    }\n",
              "\n",
              "    .colab-df-convert {\n",
              "      background-color: #E8F0FE;\n",
              "      border: none;\n",
              "      border-radius: 50%;\n",
              "      cursor: pointer;\n",
              "      display: none;\n",
              "      fill: #1967D2;\n",
              "      height: 32px;\n",
              "      padding: 0 0 0 0;\n",
              "      width: 32px;\n",
              "    }\n",
              "\n",
              "    .colab-df-convert:hover {\n",
              "      background-color: #E2EBFA;\n",
              "      box-shadow: 0px 1px 2px rgba(60, 64, 67, 0.3), 0px 1px 3px 1px rgba(60, 64, 67, 0.15);\n",
              "      fill: #174EA6;\n",
              "    }\n",
              "\n",
              "    .colab-df-buttons div {\n",
              "      margin-bottom: 4px;\n",
              "    }\n",
              "\n",
              "    [theme=dark] .colab-df-convert {\n",
              "      background-color: #3B4455;\n",
              "      fill: #D2E3FC;\n",
              "    }\n",
              "\n",
              "    [theme=dark] .colab-df-convert:hover {\n",
              "      background-color: #434B5C;\n",
              "      box-shadow: 0px 1px 3px 1px rgba(0, 0, 0, 0.15);\n",
              "      filter: drop-shadow(0px 1px 2px rgba(0, 0, 0, 0.3));\n",
              "      fill: #FFFFFF;\n",
              "    }\n",
              "  </style>\n",
              "\n",
              "    <script>\n",
              "      const buttonEl =\n",
              "        document.querySelector('#df-936b2e47-355d-4adf-9a52-8786f38fdf69 button.colab-df-convert');\n",
              "      buttonEl.style.display =\n",
              "        google.colab.kernel.accessAllowed ? 'block' : 'none';\n",
              "\n",
              "      async function convertToInteractive(key) {\n",
              "        const element = document.querySelector('#df-936b2e47-355d-4adf-9a52-8786f38fdf69');\n",
              "        const dataTable =\n",
              "          await google.colab.kernel.invokeFunction('convertToInteractive',\n",
              "                                                    [key], {});\n",
              "        if (!dataTable) return;\n",
              "\n",
              "        const docLinkHtml = 'Like what you see? Visit the ' +\n",
              "          '<a target=\"_blank\" href=https://colab.research.google.com/notebooks/data_table.ipynb>data table notebook</a>'\n",
              "          + ' to learn more about interactive tables.';\n",
              "        element.innerHTML = '';\n",
              "        dataTable['output_type'] = 'display_data';\n",
              "        await google.colab.output.renderOutput(dataTable, element);\n",
              "        const docLink = document.createElement('div');\n",
              "        docLink.innerHTML = docLinkHtml;\n",
              "        element.appendChild(docLink);\n",
              "      }\n",
              "    </script>\n",
              "  </div>\n",
              "\n",
              "\n",
              "<div id=\"df-457ae2b7-398e-4ade-a257-75e8e7005924\">\n",
              "  <button class=\"colab-df-quickchart\" onclick=\"quickchart('df-457ae2b7-398e-4ade-a257-75e8e7005924')\"\n",
              "            title=\"Suggest charts\"\n",
              "            style=\"display:none;\">\n",
              "\n",
              "<svg xmlns=\"http://www.w3.org/2000/svg\" height=\"24px\"viewBox=\"0 0 24 24\"\n",
              "     width=\"24px\">\n",
              "    <g>\n",
              "        <path d=\"M19 3H5c-1.1 0-2 .9-2 2v14c0 1.1.9 2 2 2h14c1.1 0 2-.9 2-2V5c0-1.1-.9-2-2-2zM9 17H7v-7h2v7zm4 0h-2V7h2v10zm4 0h-2v-4h2v4z\"/>\n",
              "    </g>\n",
              "</svg>\n",
              "  </button>\n",
              "\n",
              "<style>\n",
              "  .colab-df-quickchart {\n",
              "      --bg-color: #E8F0FE;\n",
              "      --fill-color: #1967D2;\n",
              "      --hover-bg-color: #E2EBFA;\n",
              "      --hover-fill-color: #174EA6;\n",
              "      --disabled-fill-color: #AAA;\n",
              "      --disabled-bg-color: #DDD;\n",
              "  }\n",
              "\n",
              "  [theme=dark] .colab-df-quickchart {\n",
              "      --bg-color: #3B4455;\n",
              "      --fill-color: #D2E3FC;\n",
              "      --hover-bg-color: #434B5C;\n",
              "      --hover-fill-color: #FFFFFF;\n",
              "      --disabled-bg-color: #3B4455;\n",
              "      --disabled-fill-color: #666;\n",
              "  }\n",
              "\n",
              "  .colab-df-quickchart {\n",
              "    background-color: var(--bg-color);\n",
              "    border: none;\n",
              "    border-radius: 50%;\n",
              "    cursor: pointer;\n",
              "    display: none;\n",
              "    fill: var(--fill-color);\n",
              "    height: 32px;\n",
              "    padding: 0;\n",
              "    width: 32px;\n",
              "  }\n",
              "\n",
              "  .colab-df-quickchart:hover {\n",
              "    background-color: var(--hover-bg-color);\n",
              "    box-shadow: 0 1px 2px rgba(60, 64, 67, 0.3), 0 1px 3px 1px rgba(60, 64, 67, 0.15);\n",
              "    fill: var(--button-hover-fill-color);\n",
              "  }\n",
              "\n",
              "  .colab-df-quickchart-complete:disabled,\n",
              "  .colab-df-quickchart-complete:disabled:hover {\n",
              "    background-color: var(--disabled-bg-color);\n",
              "    fill: var(--disabled-fill-color);\n",
              "    box-shadow: none;\n",
              "  }\n",
              "\n",
              "  .colab-df-spinner {\n",
              "    border: 2px solid var(--fill-color);\n",
              "    border-color: transparent;\n",
              "    border-bottom-color: var(--fill-color);\n",
              "    animation:\n",
              "      spin 1s steps(1) infinite;\n",
              "  }\n",
              "\n",
              "  @keyframes spin {\n",
              "    0% {\n",
              "      border-color: transparent;\n",
              "      border-bottom-color: var(--fill-color);\n",
              "      border-left-color: var(--fill-color);\n",
              "    }\n",
              "    20% {\n",
              "      border-color: transparent;\n",
              "      border-left-color: var(--fill-color);\n",
              "      border-top-color: var(--fill-color);\n",
              "    }\n",
              "    30% {\n",
              "      border-color: transparent;\n",
              "      border-left-color: var(--fill-color);\n",
              "      border-top-color: var(--fill-color);\n",
              "      border-right-color: var(--fill-color);\n",
              "    }\n",
              "    40% {\n",
              "      border-color: transparent;\n",
              "      border-right-color: var(--fill-color);\n",
              "      border-top-color: var(--fill-color);\n",
              "    }\n",
              "    60% {\n",
              "      border-color: transparent;\n",
              "      border-right-color: var(--fill-color);\n",
              "    }\n",
              "    80% {\n",
              "      border-color: transparent;\n",
              "      border-right-color: var(--fill-color);\n",
              "      border-bottom-color: var(--fill-color);\n",
              "    }\n",
              "    90% {\n",
              "      border-color: transparent;\n",
              "      border-bottom-color: var(--fill-color);\n",
              "    }\n",
              "  }\n",
              "</style>\n",
              "\n",
              "  <script>\n",
              "    async function quickchart(key) {\n",
              "      const quickchartButtonEl =\n",
              "        document.querySelector('#' + key + ' button');\n",
              "      quickchartButtonEl.disabled = true;  // To prevent multiple clicks.\n",
              "      quickchartButtonEl.classList.add('colab-df-spinner');\n",
              "      try {\n",
              "        const charts = await google.colab.kernel.invokeFunction(\n",
              "            'suggestCharts', [key], {});\n",
              "      } catch (error) {\n",
              "        console.error('Error during call to suggestCharts:', error);\n",
              "      }\n",
              "      quickchartButtonEl.classList.remove('colab-df-spinner');\n",
              "      quickchartButtonEl.classList.add('colab-df-quickchart-complete');\n",
              "    }\n",
              "    (() => {\n",
              "      let quickchartButtonEl =\n",
              "        document.querySelector('#df-457ae2b7-398e-4ade-a257-75e8e7005924 button');\n",
              "      quickchartButtonEl.style.display =\n",
              "        google.colab.kernel.accessAllowed ? 'block' : 'none';\n",
              "    })();\n",
              "  </script>\n",
              "</div>\n",
              "    </div>\n",
              "  </div>\n"
            ]
          },
          "metadata": {},
          "execution_count": 5
        }
      ]
    },
    {
      "cell_type": "markdown",
      "metadata": {
        "id": "QFMmFcv3cDDM"
      },
      "source": [
        "# Model\n",
        "## Load model\n"
      ]
    },
    {
      "cell_type": "code",
      "execution_count": null,
      "metadata": {
        "id": "Po7vm58UjGuH",
        "colab": {
          "base_uri": "https://localhost:8080/",
          "height": 49,
          "referenced_widgets": [
            "8469c4da1f3e49b2a18f18353a2a8615",
            "a50be26b8f8d4b6ba343399ffce7799a",
            "09012cd2231e4df587aeab976e471612",
            "d3810814b07e4b42ac2d7f6006852ac9",
            "7eb1fabbccca4027b4a0fbb9eb6b6862",
            "f8bf6296d7ae42148373f8744eeb9eac",
            "b26f5ddc703e408aa2c6cb6d23a30226",
            "d9ab1ff44a9c489290604eaa63090a3c",
            "02fb5d3283e3448baf197aaea924fc3e",
            "9fe7ac4b75594fddb1c37de54df845db",
            "3f1ad42a64ed4a32968deef16e8c3773"
          ]
        },
        "outputId": "e175d365-75e5-4e53-96d2-bea616eaf745"
      },
      "outputs": [
        {
          "output_type": "display_data",
          "data": {
            "text/plain": [
              "Loading checkpoint shards:   0%|          | 0/8 [00:00<?, ?it/s]"
            ],
            "application/vnd.jupyter.widget-view+json": {
              "version_major": 2,
              "version_minor": 0,
              "model_id": "8469c4da1f3e49b2a18f18353a2a8615"
            }
          },
          "metadata": {}
        }
      ],
      "source": [
        "import torch\n",
        "from transformers import AutoModelForCausalLM, AutoTokenizer, pipeline, BitsAndBytesConfig, set_seed\n",
        "from langchain import HuggingFacePipeline, PromptTemplate\n",
        "\n",
        "pipe = pipeline(\"text-generation\", model=\"HuggingFaceH4/zephyr-7b-alpha\", torch_dtype=torch.bfloat16, device_map=\"auto\", add_special_tokens=False)\n"
      ]
    },
    {
      "cell_type": "markdown",
      "metadata": {
        "id": "y5RP7KKkcJ2I"
      },
      "source": [
        "# Promting preparation"
      ]
    },
    {
      "cell_type": "markdown",
      "metadata": {
        "id": "MlgDab1BNi90"
      },
      "source": [
        "The script contains functions to construct prompts for the language model. There are different types of prompts:\n",
        "\n",
        "    Zero-shot prompts\n",
        "    Few-shot prompts\n",
        "    One-shot prompts\n",
        "    Chain of Thought prompts"
      ]
    },
    {
      "cell_type": "markdown",
      "metadata": {
        "id": "76Skvo-dNoSk"
      },
      "source": [
        "Each function formats the prompts according to the role (system or user) and content for the language model to generate responses accordingly."
      ]
    },
    {
      "cell_type": "markdown",
      "metadata": {
        "id": "tNnE5ilNvB8a"
      },
      "source": [
        "## Structure of prompts\n",
        "\n",
        "```\n",
        "{\"role\": \"system\",\t\"content\": \"Text of System Prompt\"},\n",
        "{\"role\": \"user\",\t\"content\": \"Question and text to classify\"},\n",
        "{\"role\": \"assistant\",\t\"content\": \"sentiment\"},\n",
        "{\"role\": \"user\",\t\"content\": \"Question and another text to classify\"}\n",
        "\n",
        "```\n",
        "\n"
      ]
    },
    {
      "cell_type": "markdown",
      "metadata": {
        "id": "koFilXZ7N0SN"
      },
      "source": [
        "Each function formats the prompts according to the role (system, assistant or user) for the language model to generate responses accordingly."
      ]
    },
    {
      "cell_type": "markdown",
      "metadata": {
        "id": "iPcUrBd5GjDk"
      },
      "source": [
        "### Zero-Shot"
      ]
    },
    {
      "cell_type": "code",
      "execution_count": null,
      "metadata": {
        "id": "qba6iRpUPj34",
        "colab": {
          "base_uri": "https://localhost:8080/"
        },
        "outputId": "35b63ea9-f887-48ba-d440-d074ff196173"
      },
      "outputs": [
        {
          "output_type": "stream",
          "name": "stdout",
          "text": [
            "Example Zero Shot Prompt Messages: \n",
            "<|system|>\n",
            "Text of System Prompt </s>\n",
            "<|user|>\n",
            "Text to classify: Text to classify /n Question text?</s>\n",
            "<|assistant|>\n",
            "\n"
          ]
        }
      ],
      "source": [
        "def zero_shot_prompt_messages(system_prompt, comment_text, question):\n",
        "    messages = [\n",
        "        {\"role\": \"system\", \"content\": system_prompt},\n",
        "        {\"role\": \"user\", \"content\": 'Text to classify: ' + str(comment_text) + ' /n '   +  str(question)},\n",
        "    ]\n",
        "    prompt = pipe.tokenizer.apply_chat_template(messages, tokenize=False, add_generation_prompt=True)\n",
        "    return prompt\n",
        "\n",
        "\n",
        "system_prompt = \"Text of System Prompt \"\n",
        "comment_text = \"Text to classify\"\n",
        "question = \"Question text?\"\n",
        "prompt_messages = zero_shot_prompt_messages(system_prompt, comment_text, question)\n",
        "\n",
        "print(\"Example Zero Shot Prompt Messages: \")\n",
        "print(prompt_messages)"
      ]
    },
    {
      "cell_type": "markdown",
      "metadata": {
        "id": "FwJOzhAyGnoh"
      },
      "source": [
        "### Few and One-Shot"
      ]
    },
    {
      "cell_type": "code",
      "execution_count": null,
      "metadata": {
        "id": "pJ3Vv5eWPnns",
        "colab": {
          "base_uri": "https://localhost:8080/"
        },
        "outputId": "7985e74d-83b3-4a26-c0f0-897d3389a732"
      },
      "outputs": [
        {
          "output_type": "stream",
          "name": "stdout",
          "text": [
            "Example Few Shot Prompt Messages: \n",
            "<|system|>\n",
            "Text of System Prompt </s>\n",
            "<|user|>\n",
            "Example 01 Question text </s>\n",
            "<|assistant|>\n",
            "neutral</s>\n",
            "<|user|>\n",
            "Text to classifyQuestion text </s>\n",
            "<|assistant|>\n",
            "\n"
          ]
        }
      ],
      "source": [
        "def few_shot_prompt_messages(system_prompt, comment_text, question, few_shot_examples):\n",
        "    messages = []\n",
        "    messages.append({\"role\": \"system\", \"content\": system_prompt})\n",
        "\n",
        "    for user_prompt, assistent_prompt in few_shot_examples:\n",
        "        messages.append({\"role\": \"user\", \"content\": user_prompt + \" \" + question})\n",
        "        messages.append({\"role\": \"assistant\", \"content\": assistent_prompt})\n",
        "\n",
        "    messages.append({\"role\": \"user\", \"content\":  str(comment_text) + str(question) })\n",
        "\n",
        "    prompt = pipe.tokenizer.apply_chat_template(messages, tokenize=False, add_generation_prompt=True)\n",
        "    return prompt\n",
        "\n",
        "\n",
        "few_shot_examples = [\n",
        "    (\"Example 01\", \"neutral\"),\n",
        "    (\"Example 02\", \"positive\"),\n",
        "    (\"Example 03\", \"negative\"),\n",
        "]\n",
        "\n",
        "one_shot_example = [\n",
        "    (\"Example 01\", \"neutral\"),\n",
        "]\n",
        "\n",
        "few_shot_examples_empty = []\n",
        "question = \"Question text \"\n",
        "\n",
        "prompt_messages = few_shot_prompt_messages(system_prompt, comment_text, question, one_shot_example)\n",
        "\n",
        "print(\"Example Few Shot Prompt Messages: \")\n",
        "\n",
        "print(prompt_messages)\n",
        "\n"
      ]
    },
    {
      "cell_type": "markdown",
      "metadata": {
        "id": "7f-6eV9HGrHY"
      },
      "source": [
        "### Chain of Thoughts"
      ]
    },
    {
      "cell_type": "code",
      "execution_count": null,
      "metadata": {
        "id": "FQ4towLo6ZBl",
        "colab": {
          "base_uri": "https://localhost:8080/"
        },
        "outputId": "826c0996-1629-4e55-ef9f-f25e3bcda256"
      },
      "outputs": [
        {
          "output_type": "stream",
          "name": "stdout",
          "text": [
            "Example Chain of Thought Prompt Messages: \n",
            "<|system|>\n",
            "Text of System Prompt </s>\n",
            "<|user|>\n",
            "text to classify Question text </s>\n",
            "<|assistant|>\n",
            "\n"
          ]
        }
      ],
      "source": [
        "def cot_prompt_thought_messages(system_prompt, comment_text, question):\n",
        "      messages = [\n",
        "        {\"role\": \"system\", \"content\": str(system_prompt)},\n",
        "        {\"role\": \"user\", \"content\":  str(comment_text) + \" \" + str(question)}\n",
        "      ]\n",
        "      prompt = pipe.tokenizer.apply_chat_template(messages, tokenize=False, add_generation_prompt=True)\n",
        "      return prompt\n",
        "\n",
        "system_prompt = \"Text of System Prompt \"\n",
        "comment_text = \"text to classify\"\n",
        "question = \"Question text \"\n",
        "\n",
        "prompt_messages = cot_prompt_thought_messages(system_prompt, comment_text, question)\n",
        "\n",
        "\n",
        "print(\"Example Chain of Thought Prompt Messages: \")\n",
        "\n",
        "print(prompt_messages)"
      ]
    },
    {
      "cell_type": "code",
      "execution_count": null,
      "metadata": {
        "id": "o_8XQxn0Ptya",
        "colab": {
          "base_uri": "https://localhost:8080/"
        },
        "outputId": "07645565-e6fd-4f35-b245-13a7b4bf1d92"
      },
      "outputs": [
        {
          "output_type": "stream",
          "name": "stdout",
          "text": [
            "Example Chain of Thought Prompt Messages: \n",
            "<|system|>\n",
            "Text of System Prompt</s>\n",
            "<|user|>\n",
            "text to classify Think about it and provide some thoughts</s>\n",
            "<|assistant|>\n",
            "I think the following...</s>\n",
            "<|user|>\n",
            "Now choose one of the following options: Option 1, Option 2, Option 3</s>\n",
            "<|assistant|>\n",
            "\n"
          ]
        }
      ],
      "source": [
        "def cot_prompt_messages(system_prompt, comment_text, model_thought, question_thought, annotation_prompt):\n",
        "    messages = [\n",
        "        {\"role\": \"system\", \"content\": system_prompt},\n",
        "        {\"role\": \"user\", \"content\": str(comment_text) + \" \" + question_thought},\n",
        "        {\"role\": \"assistant\", \"content\": model_thought},\n",
        "        {\"role\": \"user\", \"content\": annotation_prompt},\n",
        "    ]\n",
        "    prompt = pipe.tokenizer.apply_chat_template(messages, tokenize=False, add_generation_prompt=True)\n",
        "    return prompt\n",
        "\n",
        "\n",
        "system_prompt = \"Text of System Prompt\"\n",
        "question_thought = \"Think about it and provide some thoughts\"\n",
        "model_thought = \"I think the following...\"\n",
        "annotation_prompt = \"Now choose one of the following options: Option 1, Option 2, Option 3\"\n",
        "comment_text = \"text to classify\"\n",
        "\n",
        "prompt_messages = cot_prompt_messages(system_prompt, comment_text, model_thought, question_thought, annotation_prompt)\n",
        "\n",
        "\n",
        "print(\"Example Chain of Thought Prompt Messages: \")\n",
        "\n",
        "print(prompt_messages)"
      ]
    },
    {
      "cell_type": "markdown",
      "metadata": {
        "id": "A7sOLtMPHqzz"
      },
      "source": [
        "### Chain of Thoughts - Few shot"
      ]
    },
    {
      "cell_type": "code",
      "execution_count": null,
      "metadata": {
        "id": "fMvKHXArP5AL",
        "colab": {
          "base_uri": "https://localhost:8080/"
        },
        "outputId": "6032277d-5003-4f30-a368-d28002d393e7"
      },
      "outputs": [
        {
          "output_type": "stream",
          "name": "stdout",
          "text": [
            "Example Chain of Thought Prompt Messages to generate the Thought: \n",
            "('<|system|>\\n'\n",
            " 'This is the system prompt.</s>\\n'\n",
            " '<|user|>\\n'\n",
            " 'Example Comment 01 -- Think abput it </s>\\n'\n",
            " '<|assistant|>\\n'\n",
            " 'Thought 01</s>\\n'\n",
            " '<|user|>\\n'\n",
            " 'Example Comment 02 -- Think abput it </s>\\n'\n",
            " '<|assistant|>\\n'\n",
            " 'Thought 02</s>\\n'\n",
            " '<|user|>\\n'\n",
            " 'Example Comment 03 -- Think abput it </s>\\n'\n",
            " '<|assistant|>\\n'\n",
            " 'Thought 03</s>\\n'\n",
            " '<|user|>\\n'\n",
            " 'Example Comment 04 -- Think abput it </s>\\n'\n",
            " '<|assistant|>\\n')\n"
          ]
        }
      ],
      "source": [
        "def cot_few_shot_THOUGHT_prompt_messages(system_prompt, cot_few_shot_examples, question_thought, comment_text):\n",
        "    messages = []\n",
        "    messages.append({\"role\": \"system\", \"content\": system_prompt})\n",
        "\n",
        "    for example in cot_few_shot_examples:\n",
        "        messages.append({\"role\": \"user\", \"content\": example[\"user\"] + question_thought})\n",
        "        messages.append({\"role\": \"assistant\", \"content\": example[\"assistant\"]})\n",
        "\n",
        "    messages.append({\"role\": \"user\", \"content\": comment_text + question_thought})\n",
        "    prompt = pipe.tokenizer.apply_chat_template(messages, tokenize=False, add_generation_prompt=True)\n",
        "    return prompt\n",
        "\n",
        "\n",
        "system_prompt = \"This is the system prompt.\"\n",
        "cot_few_shot_examples = [\n",
        "{\"user\": \"Example Comment 01\", \"assistant\": \"Thought 01\", \"annotation\": \"Final Annotation 01\"},\n",
        "{\"user\": \"Example Comment 02\", \"assistant\": \"Thought 02\", \"annotation\": \"Final Annotation 02\"},\n",
        "{\"user\": \"Example Comment 03\", \"assistant\": \"Thought 03\", \"annotation\": \"Final Annotation 03\"},\n",
        "]\n",
        "question_thought = \" -- Think abput it \"\n",
        "question_annotation = \"Now choose one of the following options: Option 1, Option 2, Option 3\"\n",
        "comment_text = \"Example Comment 04\"\n",
        "\n",
        "prompt_messages = cot_few_shot_THOUGHT_prompt_messages(system_prompt, cot_few_shot_examples, question_thought, comment_text)\n",
        "\n",
        "print(\"Example Chain of Thought Prompt Messages to generate the Thought: \")\n",
        "\n",
        "pprint(prompt_messages, width=140)"
      ]
    },
    {
      "cell_type": "code",
      "execution_count": null,
      "metadata": {
        "id": "X1_wr311m2A9",
        "colab": {
          "base_uri": "https://localhost:8080/"
        },
        "outputId": "4aabf227-9513-43a1-94e0-14a4bd7e45d5"
      },
      "outputs": [
        {
          "output_type": "stream",
          "name": "stdout",
          "text": [
            "Example Chain of Thought Prompt Messages: \n",
            "<|system|>\n",
            "Text of System Prompt</s>\n",
            "<|user|>\n",
            "Example Comment 01 -- Think about it and provide some thoughts </s>\n",
            "<|assistant|>\n",
            "Thought 01</s>\n",
            "<|user|>\n",
            "Now choose one of the following options: Option 1, Option 2, Option 3</s>\n",
            "<|assistant|>\n",
            "Final Annotation 01</s>\n",
            "<|user|>\n",
            "Example Comment 02 -- Think about it and provide some thoughts </s>\n",
            "<|assistant|>\n",
            "Thought 02</s>\n",
            "<|user|>\n",
            "Now choose one of the following options: Option 1, Option 2, Option 3</s>\n",
            "<|assistant|>\n",
            "Final Annotation 02</s>\n",
            "<|user|>\n",
            "Example Comment 03 -- Think about it and provide some thoughts </s>\n",
            "<|assistant|>\n",
            "Thought 03</s>\n",
            "<|user|>\n",
            "Now choose one of the following options: Option 1, Option 2, Option 3</s>\n",
            "<|assistant|>\n",
            "Final Annotation 03</s>\n",
            "<|user|>\n",
            "text to classify -- Think about it and provide some thoughts </s>\n",
            "<|assistant|>\n",
            "I think the following...</s>\n",
            "<|user|>\n",
            "Now choose one of the following options: Option 1, Option 2, Option 3</s>\n",
            "<|assistant|>\n",
            "\n"
          ]
        }
      ],
      "source": [
        "def cot_few_shot_prompt_messages(system_prompt, cot_few_shot_examples, model_thought, question_thought, annotation_prompt, comment_text):\n",
        "    messages = []\n",
        "    messages.append({\"role\": \"system\", \"content\": system_prompt})\n",
        "\n",
        "    for example in cot_few_shot_examples:\n",
        "        messages.append({\"role\": \"user\", \"content\": example[\"user\"] + question_thought})\n",
        "        messages.append({\"role\": \"assistant\", \"content\": example[\"assistant\"]})\n",
        "        messages.append({\"role\": \"user\", \"content\": annotation_prompt})\n",
        "        messages.append({\"role\": \"assistant\", \"content\": example[\"annotation\"]})\n",
        "\n",
        "    messages.append({\"role\": \"user\", \"content\": comment_text + question_thought })\n",
        "    messages.append({\"role\": \"assistant\", \"content\": model_thought })\n",
        "    messages.append({\"role\": \"user\", \"content\": annotation_prompt })\n",
        "\n",
        "    prompt = pipe.tokenizer.apply_chat_template(messages, tokenize=False, add_generation_prompt=True)\n",
        "    return prompt\n",
        "\n",
        "\n",
        "system_prompt = \"Text of System Prompt\"\n",
        "model_thought = \"I think the following...\"\n",
        "question_thought = \" -- Think about it and provide some thoughts \"\n",
        "annotation_prompt = \"Now choose one of the following options: Option 1, Option 2, Option 3\"\n",
        "comment_text = \"text to classify\"\n",
        "cot_few_shot_examples = [\n",
        "      {\"user\": \"Example Comment 01\", \"assistant\": \"Thought 01\", \"annotation\": \"Final Annotation 01\"},\n",
        "      {\"user\": \"Example Comment 02\", \"assistant\": \"Thought 02\", \"annotation\": \"Final Annotation 02\"},\n",
        "      {\"user\": \"Example Comment 03\", \"assistant\": \"Thought 03\", \"annotation\": \"Final Annotation 03\"},\n",
        "]\n",
        "\n",
        "prompt_messages = cot_few_shot_prompt_messages(system_prompt, cot_few_shot_examples,  model_thought, question_thought, annotation_prompt, comment_text )\n",
        "\n",
        "\n",
        "print(\"Example Chain of Thought Prompt Messages: \")\n",
        "\n",
        "print(prompt_messages)"
      ]
    },
    {
      "cell_type": "markdown",
      "metadata": {
        "id": "j7gZZr5ZvS7s"
      },
      "source": [
        "## Functions"
      ]
    },
    {
      "cell_type": "markdown",
      "metadata": {
        "id": "SlP3_TkNBj3Y"
      },
      "source": [
        "### Evaluation"
      ]
    },
    {
      "cell_type": "code",
      "execution_count": null,
      "metadata": {
        "id": "EX1ssL6EE54f"
      },
      "outputs": [],
      "source": [
        "import numpy as np\n",
        "from sklearn.metrics import confusion_matrix, classification_report, cohen_kappa_score\n",
        "\n",
        "def calcuate_classification_report(true_labels, predicted_labels):\n",
        "    # Determine the unique classes and sort them alphabetically\n",
        "    print(true_labels.value_counts())\n",
        "    print(predicted_labels.value_counts())\n",
        "    unique_classes = np.unique(np.concatenate((true_labels.astype(str), predicted_labels.astype(str))))\n",
        "    unique_classes = unique_classes.astype(str)\n",
        "    unique_classes.sort()\n",
        "\n",
        "    classification_report_str = classification_report(true_labels, predicted_labels, labels=unique_classes, zero_division=0)\n",
        "    classification_report_dict = classification_report(true_labels, predicted_labels, labels=unique_classes, zero_division=0 , output_dict=True)\n",
        "\n",
        "    return classification_report_str, classification_report_dict\n",
        "\n",
        "def calculate_kappa(true_labels, predicted_labels):\n",
        "    # Calculate Cohen's Kappa Score\n",
        "    kappa = cohen_kappa_score(true_labels, predicted_labels)\n",
        "\n",
        "    return round(kappa, 4)\n",
        "\n",
        "def calculate_evaluation_metrics(true_labels, predicted_labels):\n",
        "    true_labels = true_labels.astype(str)\n",
        "    predicted_labels = predicted_labels.astype(str)\n",
        "    print(\"## Run calcuate_classification_report \")\n",
        "    classification_report_str, classification_report_dict = calcuate_classification_report(true_labels, predicted_labels)\n",
        "    print(\"## Run calculate_kappa \")\n",
        "    kappa = calculate_kappa(true_labels, predicted_labels)\n",
        "    return classification_report_str, classification_report_dict, kappa"
      ]
    },
    {
      "cell_type": "markdown",
      "metadata": {
        "id": "zWBBnvmxBnBv"
      },
      "source": [
        "### Processing"
      ]
    },
    {
      "cell_type": "markdown",
      "metadata": {
        "id": "Nllm9aYfOvYB"
      },
      "source": [
        "function process_response: processes the language model's responses to extract sentiment keywords."
      ]
    },
    {
      "cell_type": "code",
      "execution_count": null,
      "metadata": {
        "id": "sf19icFn1bCT"
      },
      "outputs": [],
      "source": [
        "def process_response(response, keywords):\n",
        "    # Convert response to lowercase\n",
        "    response_lower = response.lower()\n",
        "\n",
        "    # Search for keywords in response and return the first one found\n",
        "    for keyword in keywords:\n",
        "        if keyword.lower() in response_lower:\n",
        "            return keyword\n",
        "\n",
        "    return \"neutral\"\n",
        "    # If no keyword found, return \"neutral\"\n",
        "    # OR CHANGE: If no keyword found, return \"notAvailable\"\n",
        "    # return \"notAvailable\"\n",
        "\n",
        "\n",
        "# Define the batch processing function\n",
        "def analyze_text_list(promptsList):\n",
        "    responses = pipe(promptsList,\n",
        "                     batch_size=8, # could also be set higher (example to 32); reduce this number if you get an out-of-memory error\n",
        "                     max_new_tokens=20,\n",
        "                     do_sample = True,\n",
        "                     temperature=0.2,\n",
        "                     top_k=50,\n",
        "                     top_p=0.95,\n",
        "                     pad_token_id=pipe.tokenizer.eos_token_id,\n",
        "                     return_full_text=False)\n",
        "    categories = [resp[0][\"generated_text\"] for resp in responses]\n",
        "    return categories\n",
        "\n",
        "# Define the batch processing function for the chain of thoughts prompt\n",
        "def analyze_thought_list(promptsList):\n",
        "    responses = pipe(promptsList,\n",
        "                     batch_size=8,  # could also be set higher (example to 32); reduce this number if you get an out-of-memory error\n",
        "                     max_new_tokens=100,\n",
        "                     do_sample = True,\n",
        "                     temperature=0.2,\n",
        "                     top_k=50,\n",
        "                     top_p=0.95,\n",
        "                     pad_token_id=pipe.tokenizer.eos_token_id,\n",
        "                     return_full_text=False)\n",
        "    categories = [resp[0][\"generated_text\"] for resp in responses]\n",
        "    return categories\n",
        "\n",
        "\n"
      ]
    },
    {
      "cell_type": "code",
      "execution_count": null,
      "metadata": {
        "id": "LSN1cAV_ntcG"
      },
      "outputs": [],
      "source": [
        "import re\n",
        "# Function to remove illegal characters\n",
        "def remove_illegal_characters(text):\n",
        "    if isinstance(text, str):\n",
        "        # Remove non-printable characters\n",
        "        text = re.sub(r'[\\x00-\\x1F\\x7F-\\x9F]', '', text)\n",
        "    return text"
      ]
    },
    {
      "cell_type": "markdown",
      "metadata": {
        "id": "mmQBHsRCBrLs"
      },
      "source": [
        "### Function: Run classification"
      ]
    },
    {
      "cell_type": "code",
      "execution_count": null,
      "metadata": {
        "id": "DjBiEDsY0L1_"
      },
      "outputs": [],
      "source": [
        "def run_classification(name, df, output_dir, true_column):\n",
        "    # Create a copy of the DataFrame to work with inside this function\n",
        "    df = df.copy()\n",
        "    print(f\"##################\\n[START] Promptname: \"+ name )\n",
        "    promtsList = df[\"prompt\"].tolist()\n",
        "\n",
        "    set_seed(0)\n",
        "\n",
        "    label_pred = analyze_text_list(promtsList)\n",
        "    df[\"response\"] = label_pred\n",
        "\n",
        "    df[true_column] = df[true_column].str.lower()\n",
        "    keywords = df[true_column].unique()\n",
        "\n",
        "    new_columname = \"pred_\" + name\n",
        "    df[new_columname] = df[\"response\"].apply(lambda x: process_response(x, keywords))\n",
        "    print(f\"##################\\n[Count Predictions: ] \\n\", df[new_columname].value_counts())\n",
        "\n",
        "    #print(df.head(5))\n",
        "    print(f\"##################\\n[Evaluation] Promptname: \"+ name )\n",
        "    classification_report_str, classification_report_dict, kappa = calculate_evaluation_metrics(df[true_column],df[new_columname])\n",
        "    print(f\"\\n[Evaluation] Kappa: {round(kappa, 4)}\")\n",
        "    print(f\"\\n[Evaluation] Classification Report:\\n\\n\", classification_report_str)\n",
        "\n",
        "\n",
        "    # Use the datestamp and prompt name in the filename\n",
        "    current_date = datetime.now().strftime('%Y%m%d_%H%M')\n",
        "\n",
        "    df = df.applymap(remove_illegal_characters)\n",
        "    df.to_csv(os.path.join(output_dir, f\"processed_data_{name}_{df.shape[0]}_rows_{current_date}.csv\"), index=False)\n",
        "    df.to_excel(os.path.join(output_dir, f\"processed_data_{name}_{df.shape[0]}_rows_{current_date}.xlsx\"))\n",
        "    print(f\"##################\\n[Saved] Date and Time : \"+ current_date )\n",
        "\n",
        "    return {\n",
        "        \"prompt\": name,\n",
        "        \"df\": df,\n",
        "        \"classification_report_str\": classification_report_str,\n",
        "        \"classification_report_dict\": classification_report_dict,\n",
        "        \"kappa\": kappa,\n",
        "    }\n"
      ]
    },
    {
      "cell_type": "markdown",
      "metadata": {
        "id": "wAhMgIrkPAHi"
      },
      "source": [
        "run_thought_classification: Processes prompts to generate thoughts."
      ]
    },
    {
      "cell_type": "code",
      "execution_count": null,
      "metadata": {
        "id": "aOrUaayCB51a"
      },
      "outputs": [],
      "source": [
        "def run_thought_classification(name, df):\n",
        "    # Create a copy of the DataFrame to work with inside this function\n",
        "    df = df.copy()\n",
        "    print(f\"##################\\n[START] Get thoughts for promptname: \"+ name )\n",
        "    promtsList = df[\"promptThought\"].tolist()\n",
        "\n",
        "    set_seed(0)\n",
        "\n",
        "    thought_pred = analyze_thought_list(promtsList)\n",
        "    df[\"thought\"] = thought_pred\n",
        "\n",
        "    return df"
      ]
    },
    {
      "cell_type": "markdown",
      "metadata": {
        "id": "oJWfx-HqPTUz"
      },
      "source": [
        "run_classification_self_consistency: Performs multiple iterations of classification to check the self-consistency of the model's predictions."
      ]
    },
    {
      "cell_type": "code",
      "execution_count": null,
      "metadata": {
        "id": "srlooJtRP5Rg"
      },
      "outputs": [],
      "source": [
        "from collections import Counter\n",
        "def run_classification_self_consistency(name, df, output_dir, true_column, numberOfIterations):\n",
        "    # Create a copy of the DataFrame to work with inside this function\n",
        "    df = df.copy()\n",
        "    df[true_column] = df[true_column].str.lower()\n",
        "    keywords = df[true_column].unique()\n",
        "\n",
        "    column_names = []  # List to hold the names of the columns created during iterations\n",
        "\n",
        "\n",
        "    for iteration in range(numberOfIterations):\n",
        "        print(f\"##################\\n[START] Promptname: {name}, Iteration: {iteration + 1}\")\n",
        "\n",
        "        set_seed(iteration)\n",
        "\n",
        "        promtsList = df[\"prompt\"].tolist()\n",
        "        label_pred = analyze_text_list(promtsList)\n",
        "        df[\"response\"] = label_pred\n",
        "\n",
        "        # Adjusted the column name to include the iteration number\n",
        "        new_columname = f\"pred_{name}_{iteration + 1}\"\n",
        "        column_names.append(new_columname)\n",
        "        df[new_columname] = df[\"response\"].apply(lambda x: process_response(x, keywords))\n",
        "\n",
        "        new_columname_response = f\"response_{iteration + 1}\"\n",
        "        df[new_columname_response] = df[\"response\"]\n",
        "\n",
        "\n",
        "    # After all iterations, perform majority vote\n",
        "    def majority_vote(row):\n",
        "        # Gather the predictions for this row from all iterations\n",
        "        predictions = [row[col] for col in column_names]\n",
        "        # Find the most common prediction and its count\n",
        "        most_common_prediction, count = Counter(predictions).most_common(1)[0]\n",
        "        # If the most common prediction is \"notAvailable\" and there are other labels, find the next most common label\n",
        "        if most_common_prediction == \"notAvailable\" and len(set(predictions)) > 1:\n",
        "            # Get all labels other than \"notAvailable\"\n",
        "            other_predictions = [pred for pred in predictions if pred != \"notAvailable\"]\n",
        "            # Find the most common among the other labels\n",
        "            most_common_prediction, _ = Counter(other_predictions).most_common(1)[0]\n",
        "        return most_common_prediction\n",
        "\n",
        "    # Create a new column for the majority vote results\n",
        "    df['majority_vote'] = df.apply(majority_vote, axis=1)\n",
        "\n",
        "\n",
        "\n",
        "    #print(df.head(5))\n",
        "    print(f\"##################\\n[Evaluation] Promptname: \"+ name )\n",
        "    classification_report_str, classification_report_dict, kappa = calculate_evaluation_metrics(df[true_column],df[\"majority_vote\"])\n",
        "    print(f\"\\n[Evaluation] Kappa: {round(kappa, 4)}\")\n",
        "    print(f\"\\n[Evaluation] Classification Report:\\n\\n\", classification_report_str)\n",
        "\n",
        "\n",
        "    # Use the datestamp and prompt name in the filename\n",
        "    current_date = datetime.now().strftime('%Y%m%d_%H%M')\n",
        "\n",
        "    df = df.applymap(remove_illegal_characters)\n",
        "    df.to_csv(os.path.join(output_dir, f\"processed_data_{name}_{df.shape[0]}_rows_{current_date}.csv\"), index=False)\n",
        "    df.to_excel(os.path.join(output_dir, f\"processed_data_{name}_{df.shape[0]}_rows_{current_date}.xlsx\"))\n",
        "    print(f\"##################\\n[Saved] Date and Time : \"+ current_date )\n",
        "\n",
        "    return {\n",
        "        \"prompt\": name,\n",
        "        \"df\": df,\n",
        "        \"classification_report_str\": classification_report_str,\n",
        "        \"classification_report_dict\": classification_report_dict,\n",
        "        \"kappa\": kappa,\n",
        "    }\n"
      ]
    },
    {
      "cell_type": "markdown",
      "metadata": {
        "id": "jaKyMDbGI6ib"
      },
      "source": [
        "# Run different prompts"
      ]
    },
    {
      "cell_type": "code",
      "execution_count": null,
      "metadata": {
        "id": "ILKQhr2r2Lm2"
      },
      "outputs": [],
      "source": [
        "results = {}\n",
        "true_column = \"sentiment\""
      ]
    },
    {
      "cell_type": "markdown",
      "metadata": {
        "id": "fXa8Z-YLQh_b"
      },
      "source": [
        "### Zero-Shot"
      ]
    },
    {
      "cell_type": "code",
      "execution_count": null,
      "metadata": {
        "id": "lr6BK51awm3K"
      },
      "outputs": [],
      "source": [
        "# Zero Shot\n",
        "def run_zeroshot1__classification(df, output_dir):\n",
        "    prompt_name = \"01_zeroshot1\"\n",
        "    system_prompt = \"You are an assistant for classifying tweets for their sentiment. \"\n",
        "    question = \"Is the sentiment for this tweet positive, negative or neutral? Respond only with:  ['positive', 'neutral', 'negative']? \"\n",
        "    df[\"prompt\"] = df[\"text\"].apply(lambda text: zero_shot_prompt_messages(system_prompt, text, question))\n",
        "    results[prompt_name]  = run_classification(prompt_name, df, output_dir, true_column)\n"
      ]
    },
    {
      "cell_type": "code",
      "execution_count": null,
      "metadata": {
        "id": "22VooYVBSTTe",
        "colab": {
          "base_uri": "https://localhost:8080/"
        },
        "outputId": "b3597c80-65e5-4e5c-c4f0-6fb94cc9a0d0"
      },
      "outputs": [
        {
          "output_type": "execute_result",
          "data": {
            "text/plain": [
              "6755     Galaxy Note 4 On A Note 7 ROM Gets Samsung's R...\n",
              "3804     The older, the better frase que solo aplica pa...\n",
              "8934     Wow - the world as we know it is slowly turnin...\n",
              "4207     @DAccampoFamily @CLF3rd abortion has nothing t...\n",
              "11787    @ali @NolteNC @Reince CA voter registration ac...\n",
              "                               ...                        \n",
              "490      @verynetwork wowzers!! superb prize!! 😍 #hatch...\n",
              "946      Powerful. #MannequinChallenge https://t.co/goY...\n",
              "7950     I've been listening to Leonard Cohen nonstop f...\n",
              "10136    📷 Playing robots in the Himalayas https://t.co...\n",
              "2740     Inside Expa Labs, #Uber co-founder's take on t...\n",
              "Name: text, Length: 500, dtype: object"
            ]
          },
          "metadata": {},
          "execution_count": 21
        }
      ],
      "source": [
        "df[\"text\"]"
      ]
    },
    {
      "cell_type": "code",
      "execution_count": null,
      "metadata": {
        "id": "chWbRCyDYhjm",
        "colab": {
          "base_uri": "https://localhost:8080/"
        },
        "outputId": "a89e56a0-ac7a-4e50-a17a-e943a6fcf2ae"
      },
      "outputs": [
        {
          "output_type": "stream",
          "name": "stdout",
          "text": [
            "##################\n",
            "[START] Promptname: 01_zeroshot1\n"
          ]
        },
        {
          "output_type": "stream",
          "name": "stderr",
          "text": [
            "/usr/local/lib/python3.10/dist-packages/transformers/generation/utils.py:1517: UserWarning: You have modified the pretrained model configuration to control generation. This is a deprecated strategy to control generation and will be removed soon, in a future version. Please use and modify the model generation configuration (see https://huggingface.co/docs/transformers/generation_strategies#default-text-generation-configuration )\n",
            "  warnings.warn(\n"
          ]
        },
        {
          "output_type": "stream",
          "name": "stdout",
          "text": [
            "##################\n",
            "[Count Predictions: ] \n",
            " neutral     194\n",
            "negative    163\n",
            "positive    143\n",
            "Name: pred_01_zeroshot1, dtype: int64\n",
            "##################\n",
            "[Evaluation] Promptname: 01_zeroshot1\n",
            "## Run calcuate_classification_report \n",
            "neutral     227\n",
            "negative    171\n",
            "positive    102\n",
            "Name: sentiment, dtype: int64\n",
            "neutral     194\n",
            "negative    163\n",
            "positive    143\n",
            "Name: pred_01_zeroshot1, dtype: int64\n",
            "## Run calculate_kappa \n",
            "\n",
            "[Evaluation] Kappa: 0.4954\n",
            "\n",
            "[Evaluation] Classification Report:\n",
            "\n",
            "               precision    recall  f1-score   support\n",
            "\n",
            "    negative       0.77      0.73      0.75       171\n",
            "     neutral       0.68      0.58      0.62       227\n",
            "    positive       0.55      0.77      0.64       102\n",
            "\n",
            "    accuracy                           0.67       500\n",
            "   macro avg       0.66      0.69      0.67       500\n",
            "weighted avg       0.68      0.67      0.67       500\n",
            "\n",
            "##################\n",
            "[Saved] Date and Time : 20231205_1513\n"
          ]
        }
      ],
      "source": [
        "run_zeroshot1__classification(df, output_dir)"
      ]
    },
    {
      "cell_type": "code",
      "execution_count": null,
      "metadata": {
        "id": "mQdPnS8jKP0K",
        "colab": {
          "base_uri": "https://localhost:8080/"
        },
        "outputId": "f56162a3-9b8d-4d0d-cc3a-698d44d285fb"
      },
      "outputs": [
        {
          "output_type": "stream",
          "name": "stdout",
          "text": [
            "##################\n",
            "[START] Promptname: 02_zeroshot2\n",
            "##################\n",
            "[Count Predictions: ] \n",
            " negative    197\n",
            "neutral     154\n",
            "positive    149\n",
            "Name: pred_02_zeroshot2, dtype: int64\n",
            "##################\n",
            "[Evaluation] Promptname: 02_zeroshot2\n",
            "## Run calcuate_classification_report \n",
            "neutral     227\n",
            "negative    171\n",
            "positive    102\n",
            "Name: sentiment, dtype: int64\n",
            "negative    197\n",
            "neutral     154\n",
            "positive    149\n",
            "Name: pred_02_zeroshot2, dtype: int64\n",
            "## Run calculate_kappa \n",
            "\n",
            "[Evaluation] Kappa: 0.5125\n",
            "\n",
            "[Evaluation] Classification Report:\n",
            "\n",
            "               precision    recall  f1-score   support\n",
            "\n",
            "    negative       0.71      0.82      0.76       171\n",
            "     neutral       0.74      0.50      0.60       227\n",
            "    positive       0.56      0.82      0.67       102\n",
            "\n",
            "    accuracy                           0.68       500\n",
            "   macro avg       0.67      0.71      0.68       500\n",
            "weighted avg       0.69      0.68      0.67       500\n",
            "\n",
            "##################\n",
            "[Saved] Date and Time : 20231205_1514\n"
          ]
        }
      ],
      "source": [
        "# Zero Shot\n",
        "def run_zeroshot2__classification(df, output_dir):\n",
        "    prompt_name = \"02_zeroshot2\"\n",
        "    system_prompt = \"You are a reliabel chat assistant for classifying tweets for their sentiment.\"\n",
        "    question = \"Is the sentiment for this tweet positive, negative or neutral (Respond only with:  ['positive', 'neutral', 'negative'])?\"\n",
        "    df[\"prompt\"] = df[\"text\"].apply(lambda text: zero_shot_prompt_messages(system_prompt, text, question))\n",
        "    results[prompt_name]  = run_classification(prompt_name, df, output_dir, true_column)\n",
        "\n",
        "\n",
        "run_zeroshot2__classification(df, output_dir)"
      ]
    },
    {
      "cell_type": "code",
      "execution_count": null,
      "metadata": {
        "id": "kb3bdQeOOvKe",
        "colab": {
          "base_uri": "https://localhost:8080/"
        },
        "outputId": "2bad36f7-bdf8-4d86-c5b5-7a8382399617"
      },
      "outputs": [
        {
          "output_type": "stream",
          "name": "stdout",
          "text": [
            "##################\n",
            "[START] Promptname: 03_zeroshot3\n",
            "##################\n",
            "[Count Predictions: ] \n",
            " negative    221\n",
            "positive    157\n",
            "neutral     122\n",
            "Name: pred_03_zeroshot3, dtype: int64\n",
            "##################\n",
            "[Evaluation] Promptname: 03_zeroshot3\n",
            "## Run calcuate_classification_report \n",
            "neutral     227\n",
            "negative    171\n",
            "positive    102\n",
            "Name: sentiment, dtype: int64\n",
            "negative    221\n",
            "positive    157\n",
            "neutral     122\n",
            "Name: pred_03_zeroshot3, dtype: int64\n",
            "## Run calculate_kappa \n",
            "\n",
            "[Evaluation] Kappa: 0.4599\n",
            "\n",
            "[Evaluation] Classification Report:\n",
            "\n",
            "               precision    recall  f1-score   support\n",
            "\n",
            "    negative       0.66      0.85      0.74       171\n",
            "     neutral       0.72      0.39      0.50       227\n",
            "    positive       0.54      0.83      0.66       102\n",
            "\n",
            "    accuracy                           0.64       500\n",
            "   macro avg       0.64      0.69      0.63       500\n",
            "weighted avg       0.66      0.64      0.62       500\n",
            "\n",
            "##################\n",
            "[Saved] Date and Time : 20231205_1515\n"
          ]
        }
      ],
      "source": [
        "# Zero Shot\n",
        "def run_zeroshot3__classification(df, output_dir):\n",
        "    prompt_name = \"03_zeroshot3\"\n",
        "    system_prompt = \"Please help me to classify tweets for their sentiment. \"\n",
        "    question = \" --- Question:  Is the sentiment for this tweet positive, negative or neutral (Respond only with:  ['positive', 'neutral', 'negative'])?\"\n",
        "    df[\"prompt\"] = df[\"text\"].apply(lambda text: zero_shot_prompt_messages(system_prompt, text, question))\n",
        "    results[prompt_name]  = run_classification(prompt_name, df, output_dir, true_column)\n",
        "\n",
        "run_zeroshot3__classification(df, output_dir)"
      ]
    },
    {
      "cell_type": "code",
      "execution_count": null,
      "metadata": {
        "id": "AxO0Y0OhIIVy",
        "colab": {
          "base_uri": "https://localhost:8080/"
        },
        "outputId": "c49b32bb-57b3-4270-aac3-38f6f37e1357"
      },
      "outputs": [
        {
          "output_type": "stream",
          "name": "stdout",
          "text": [
            "##################\n",
            "[START] Promptname: 04_zeroshot4\n",
            "##################\n",
            "[Count Predictions: ] \n",
            " negative    205\n",
            "positive    170\n",
            "neutral     125\n",
            "Name: pred_04_zeroshot4, dtype: int64\n",
            "##################\n",
            "[Evaluation] Promptname: 04_zeroshot4\n",
            "## Run calcuate_classification_report \n",
            "neutral     227\n",
            "negative    171\n",
            "positive    102\n",
            "Name: sentiment, dtype: int64\n",
            "negative    205\n",
            "positive    170\n",
            "neutral     125\n",
            "Name: pred_04_zeroshot4, dtype: int64\n",
            "## Run calculate_kappa \n",
            "\n",
            "[Evaluation] Kappa: 0.4505\n",
            "\n",
            "[Evaluation] Classification Report:\n",
            "\n",
            "               precision    recall  f1-score   support\n",
            "\n",
            "    negative       0.69      0.82      0.75       171\n",
            "     neutral       0.69      0.38      0.49       227\n",
            "    positive       0.51      0.85      0.64       102\n",
            "\n",
            "    accuracy                           0.63       500\n",
            "   macro avg       0.63      0.69      0.63       500\n",
            "weighted avg       0.65      0.63      0.61       500\n",
            "\n",
            "##################\n",
            "[Saved] Date and Time : 20231205_1515\n"
          ]
        }
      ],
      "source": [
        "# Zero Shot\n",
        "\n",
        "def run_zeroshot4__classification(df, output_dir):\n",
        "    prompt_name = \"04_zeroshot4\"\n",
        "    system_prompt = \"Please help me to classify tweets for their sentiment. \"\n",
        "    question = \"Question: Is the sentiment for this tweet positive, negative or neutral. Do not reply using a complete sentence, only responde with one word: ['positive', 'neutral', 'negative']  \"\n",
        "    df[\"prompt\"] = df[\"text\"].apply(lambda text: zero_shot_prompt_messages(system_prompt, text, question))\n",
        "    results[prompt_name]  = run_classification(prompt_name, df, output_dir, true_column)\n",
        "\n",
        "\n",
        "run_zeroshot4__classification(df, output_dir)"
      ]
    },
    {
      "cell_type": "markdown",
      "metadata": {
        "id": "qhc8FnW3UsJZ"
      },
      "source": [
        "### One-Shot"
      ]
    },
    {
      "cell_type": "code",
      "execution_count": null,
      "metadata": {
        "id": "sVkpYqxUFDkt",
        "colab": {
          "base_uri": "https://localhost:8080/"
        },
        "outputId": "a2ec2c93-ae1a-4759-9c18-972104d00a20"
      },
      "outputs": [
        {
          "output_type": "stream",
          "name": "stdout",
          "text": [
            "##################\n",
            "[START] Promptname: 05_One_shot1\n",
            "##################\n",
            "[Count Predictions: ] \n",
            " negative    182\n",
            "neutral     177\n",
            "positive    141\n",
            "Name: pred_05_One_shot1, dtype: int64\n",
            "##################\n",
            "[Evaluation] Promptname: 05_One_shot1\n",
            "## Run calcuate_classification_report \n",
            "neutral     227\n",
            "negative    171\n",
            "positive    102\n",
            "Name: sentiment, dtype: int64\n",
            "negative    182\n",
            "neutral     177\n",
            "positive    141\n",
            "Name: pred_05_One_shot1, dtype: int64\n",
            "## Run calculate_kappa \n",
            "\n",
            "[Evaluation] Kappa: 0.5284\n",
            "\n",
            "[Evaluation] Classification Report:\n",
            "\n",
            "               precision    recall  f1-score   support\n",
            "\n",
            "    negative       0.73      0.78      0.75       171\n",
            "     neutral       0.73      0.57      0.64       227\n",
            "    positive       0.58      0.80      0.67       102\n",
            "\n",
            "    accuracy                           0.69       500\n",
            "   macro avg       0.68      0.72      0.69       500\n",
            "weighted avg       0.70      0.69      0.69       500\n",
            "\n",
            "##################\n",
            "[Saved] Date and Time : 20231205_1516\n"
          ]
        }
      ],
      "source": [
        "# One Shot\n",
        "def run_One_shot1__classification(df, output_dir):\n",
        "    prompt_name = \"05_One_shot1\"\n",
        "    # Define the question and context\n",
        "    example_p = [\n",
        "    (\" Want to start reading Paper Towns tomorrow. My sister told me the movie was awesome! \", \"positive\"),\n",
        "    ]\n",
        "\n",
        "    system_prompt = \"Please help me to classify tweets for their sentiment.  \"\n",
        "    question = \"--- Is the sentiment for this tweet positive, negative or neutral (only responde with ['positive', 'neutral', 'negative'])? \"\n",
        "\n",
        "\n",
        "    df[\"prompt\"] = df[\"text\"].apply(lambda text: few_shot_prompt_messages(system_prompt, text, question, example_p))\n",
        "    results[prompt_name]  = run_classification(prompt_name, df, output_dir, true_column)\n",
        "\n",
        "run_One_shot1__classification(df, output_dir)"
      ]
    },
    {
      "cell_type": "code",
      "execution_count": null,
      "metadata": {
        "id": "NSulhFyuU1ir",
        "colab": {
          "base_uri": "https://localhost:8080/"
        },
        "outputId": "594a743f-43e4-47d6-b99b-236230d106a6"
      },
      "outputs": [
        {
          "output_type": "stream",
          "name": "stdout",
          "text": [
            "##################\n",
            "[START] Promptname: 06_One_shot2\n",
            "##################\n",
            "[Count Predictions: ] \n",
            " negative    192\n",
            "neutral     180\n",
            "positive    128\n",
            "Name: pred_06_One_shot2, dtype: int64\n",
            "##################\n",
            "[Evaluation] Promptname: 06_One_shot2\n",
            "## Run calcuate_classification_report \n",
            "neutral     227\n",
            "negative    171\n",
            "positive    102\n",
            "Name: sentiment, dtype: int64\n",
            "negative    192\n",
            "neutral     180\n",
            "positive    128\n",
            "Name: pred_06_One_shot2, dtype: int64\n",
            "## Run calculate_kappa \n",
            "\n",
            "[Evaluation] Kappa: 0.5191\n",
            "\n",
            "[Evaluation] Classification Report:\n",
            "\n",
            "               precision    recall  f1-score   support\n",
            "\n",
            "    negative       0.70      0.78      0.74       171\n",
            "     neutral       0.73      0.58      0.64       227\n",
            "    positive       0.61      0.76      0.68       102\n",
            "\n",
            "    accuracy                           0.69       500\n",
            "   macro avg       0.68      0.71      0.69       500\n",
            "weighted avg       0.69      0.69      0.68       500\n",
            "\n",
            "##################\n",
            "[Saved] Date and Time : 20231205_1517\n"
          ]
        }
      ],
      "source": [
        "# One Shot\n",
        "\n",
        "def run_One_shot2__classification(df, output_dir):\n",
        "    prompt_name = \"06_One_shot2\"\n",
        "    # Define the question and context\n",
        "    example_p = [\n",
        "        (\"Missing  Foo Fighters concert on the 12th at the gorge though so that's a major bummer\",  \"negative\"),\n",
        "    ]\n",
        "    system_prompt = \"Please help me to classify tweets for their sentiment.  \"\n",
        "    question = \"--- Is the sentiment for this tweet positive, negative or neutral (only responde with ['positive', 'neutral', 'negative'])?  \"\n",
        "\n",
        "    df[\"prompt\"] = df[\"text\"].apply(lambda text: few_shot_prompt_messages(system_prompt, text, question, example_p))\n",
        "    results[prompt_name]  = run_classification(prompt_name, df, output_dir, true_column)\n",
        "\n",
        "run_One_shot2__classification(df, output_dir)"
      ]
    },
    {
      "cell_type": "code",
      "execution_count": null,
      "metadata": {
        "id": "4MtPXLpYEf74",
        "colab": {
          "base_uri": "https://localhost:8080/"
        },
        "outputId": "9e0bcebc-1591-4f5e-d7bf-0fdb1a189688"
      },
      "outputs": [
        {
          "output_type": "stream",
          "name": "stdout",
          "text": [
            "##################\n",
            "[START] Promptname: 07_One_shot3\n",
            "##################\n",
            "[Count Predictions: ] \n",
            " negative    196\n",
            "neutral     157\n",
            "positive    147\n",
            "Name: pred_07_One_shot3, dtype: int64\n",
            "##################\n",
            "[Evaluation] Promptname: 07_One_shot3\n",
            "## Run calcuate_classification_report \n",
            "neutral     227\n",
            "negative    171\n",
            "positive    102\n",
            "Name: sentiment, dtype: int64\n",
            "negative    196\n",
            "neutral     157\n",
            "positive    147\n",
            "Name: pred_07_One_shot3, dtype: int64\n",
            "## Run calculate_kappa \n",
            "\n",
            "[Evaluation] Kappa: 0.4905\n",
            "\n",
            "[Evaluation] Classification Report:\n",
            "\n",
            "               precision    recall  f1-score   support\n",
            "\n",
            "    negative       0.70      0.80      0.75       171\n",
            "     neutral       0.71      0.49      0.58       227\n",
            "    positive       0.56      0.80      0.66       102\n",
            "\n",
            "    accuracy                           0.66       500\n",
            "   macro avg       0.66      0.70      0.66       500\n",
            "weighted avg       0.68      0.66      0.65       500\n",
            "\n",
            "##################\n",
            "[Saved] Date and Time : 20231205_1517\n"
          ]
        }
      ],
      "source": [
        "def run_One_shot3__classification(df, output_dir):\n",
        "    prompt_name = \"07_One_shot3\"\n",
        "\n",
        "    # New examples for the prompt reflecting future aspirations\n",
        "    example_p = [\n",
        "    (\"Is anyone going to see Shawn in  NYC tomorrow\", \"neutral\"),\n",
        "    ]\n",
        "    system_prompt = \"Please help me to classify tweets for their sentiment.  \"\n",
        "    question = \"--- Is the sentiment for this tweet positive, negative or neutral (only responde with ['positive', 'neutral', 'negative'])? \"\n",
        "\n",
        "    df[\"prompt\"] = df[\"text\"].apply(lambda text: few_shot_prompt_messages(system_prompt, text, question, example_p))\n",
        "    results[prompt_name] = run_classification(prompt_name, df, output_dir, true_column)\n",
        "\n",
        "run_One_shot3__classification(df, output_dir)\n"
      ]
    },
    {
      "cell_type": "markdown",
      "metadata": {
        "id": "ls_rls4y_KF7"
      },
      "source": [
        "## FewShot"
      ]
    },
    {
      "cell_type": "code",
      "execution_count": null,
      "metadata": {
        "id": "W7yJt0JQ_Jog",
        "colab": {
          "base_uri": "https://localhost:8080/"
        },
        "outputId": "89d7e851-a280-4844-d41b-2c780e6d2a09"
      },
      "outputs": [
        {
          "output_type": "stream",
          "name": "stdout",
          "text": [
            "##################\n",
            "[START] Promptname: 08_Few_shot1\n",
            "##################\n",
            "[Count Predictions: ] \n",
            " neutral     191\n",
            "negative    181\n",
            "positive    128\n",
            "Name: pred_08_Few_shot1, dtype: int64\n",
            "##################\n",
            "[Evaluation] Promptname: 08_Few_shot1\n",
            "## Run calcuate_classification_report \n",
            "neutral     227\n",
            "negative    171\n",
            "positive    102\n",
            "Name: sentiment, dtype: int64\n",
            "neutral     191\n",
            "negative    181\n",
            "positive    128\n",
            "Name: pred_08_Few_shot1, dtype: int64\n",
            "## Run calculate_kappa \n",
            "\n",
            "[Evaluation] Kappa: 0.5388\n",
            "\n",
            "[Evaluation] Classification Report:\n",
            "\n",
            "               precision    recall  f1-score   support\n",
            "\n",
            "    negative       0.72      0.76      0.74       171\n",
            "     neutral       0.73      0.61      0.67       227\n",
            "    positive       0.63      0.79      0.70       102\n",
            "\n",
            "    accuracy                           0.70       500\n",
            "   macro avg       0.69      0.72      0.70       500\n",
            "weighted avg       0.71      0.70      0.70       500\n",
            "\n",
            "##################\n",
            "[Saved] Date and Time : 20231205_1518\n"
          ]
        }
      ],
      "source": [
        "# Few Shot Classification\n",
        "def run_Few_shot1__classification(df, output_dir):\n",
        "    prompt_name = \"08_Few_shot1\"\n",
        "\n",
        "    # Examples demonstrating future aspirations and leisure activities\n",
        "    example_p = [\n",
        "    (\"Want to start reading Paper Towns tomorrow. My sister told me the movie was awesome! \", \"positive\"),\n",
        "    (\"Missing  Foo Fighters concert on the 12th at the gorge though so that's a major bummer\",  \"negative\"),\n",
        "    (\"Is anyone going to see Shawn in  NYC tomorrow\", \"neutral\"),\n",
        "    ]\n",
        "\n",
        "    system_prompt = \"Please help me to classify tweets for their sentiment.  \"\n",
        "    question = \"--- Is the sentiment for this tweet positive, negative or neutral (only responde with ['positive', 'neutral', 'negative'])? \"\n",
        "\n",
        "\n",
        "    # Applying the prompt to the DataFrame\n",
        "    df[\"prompt\"] = df[\"text\"].apply(lambda text: few_shot_prompt_messages(system_prompt, text, question, example_p))\n",
        "    results[prompt_name] = run_classification(prompt_name, df, output_dir, true_column)\n",
        "\n",
        "run_Few_shot1__classification(df, output_dir)\n"
      ]
    },
    {
      "cell_type": "code",
      "execution_count": null,
      "metadata": {
        "id": "ICpEM4R0xWH9",
        "colab": {
          "base_uri": "https://localhost:8080/"
        },
        "outputId": "7006926b-8dc5-474b-e5c9-199e18527797"
      },
      "outputs": [
        {
          "output_type": "stream",
          "name": "stdout",
          "text": [
            "##################\n",
            "[START] Promptname: 09_Few_shot2\n",
            "##################\n",
            "[Count Predictions: ] \n",
            " neutral     230\n",
            "negative    185\n",
            "positive     85\n",
            "Name: pred_09_Few_shot2, dtype: int64\n",
            "##################\n",
            "[Evaluation] Promptname: 09_Few_shot2\n",
            "## Run calcuate_classification_report \n",
            "neutral     227\n",
            "negative    171\n",
            "positive    102\n",
            "Name: sentiment, dtype: int64\n",
            "neutral     230\n",
            "negative    185\n",
            "positive     85\n",
            "Name: pred_09_Few_shot2, dtype: int64\n",
            "## Run calculate_kappa \n",
            "\n",
            "[Evaluation] Kappa: 0.5174\n",
            "\n",
            "[Evaluation] Classification Report:\n",
            "\n",
            "               precision    recall  f1-score   support\n",
            "\n",
            "    negative       0.70      0.76      0.73       171\n",
            "     neutral       0.69      0.70      0.70       227\n",
            "    positive       0.69      0.58      0.63       102\n",
            "\n",
            "    accuracy                           0.70       500\n",
            "   macro avg       0.70      0.68      0.69       500\n",
            "weighted avg       0.70      0.70      0.69       500\n",
            "\n",
            "##################\n",
            "[Saved] Date and Time : 20231205_1520\n"
          ]
        }
      ],
      "source": [
        "# Few Shot\n",
        "def run_Few_shot2__classification(df, output_dir):\n",
        "    prompt_name = \"09_Few_shot2\"\n",
        "    # # Examples demonstrating future aspirations and leisure activities\n",
        "    example_p = [\n",
        "        (\"Just finished a great workout session, feeling energized and ready for the day!\", \"positive\"),\n",
        "        (\"Can't believe my vacation is over. Back to the daily grind tomorrow.\", \"negative\"),\n",
        "        (\"Thinking about what to cook for dinner tonight. Maybe pasta?\", \"neutral\"),\n",
        "        (\"Absolutely loved the new art exhibit at the museum. So inspiring!\", \"positive\"),\n",
        "        (\"Feeling under the weather today, hope it's not the flu.\", \"negative\"),\n",
        "        (\"Anyone know a good place for coffee in downtown?\", \"neutral\")\n",
        "    ]\n",
        "\n",
        "\n",
        "    system_prompt = \"Please help me to classify tweets for their sentiment.  \"\n",
        "    question = \"--- Is the sentiment for this tweet positive, negative or neutral (only responde with ['positive', 'neutral', 'negative'])? \"\n",
        "\n",
        "    df[\"prompt\"] = df[\"text\"].apply(lambda text: few_shot_prompt_messages(system_prompt, text, question, example_p))\n",
        "    results[prompt_name]  = run_classification(prompt_name, df, output_dir, true_column)\n",
        "\n",
        "run_Few_shot2__classification(df, output_dir)"
      ]
    },
    {
      "cell_type": "code",
      "execution_count": null,
      "metadata": {
        "id": "iZ76VbixpGX2",
        "colab": {
          "base_uri": "https://localhost:8080/"
        },
        "outputId": "803e0dfe-c739-4c5a-b928-f0f0e85ecf84"
      },
      "outputs": [
        {
          "output_type": "stream",
          "name": "stdout",
          "text": [
            "##################\n",
            "[START] Promptname: 10_Few_shot3\n",
            "##################\n",
            "[Count Predictions: ] \n",
            " neutral     189\n",
            "negative    178\n",
            "positive    133\n",
            "Name: pred_10_Few_shot3, dtype: int64\n",
            "##################\n",
            "[Evaluation] Promptname: 10_Few_shot3\n",
            "## Run calcuate_classification_report \n",
            "neutral     227\n",
            "negative    171\n",
            "positive    102\n",
            "Name: sentiment, dtype: int64\n",
            "neutral     189\n",
            "negative    178\n",
            "positive    133\n",
            "Name: pred_10_Few_shot3, dtype: int64\n",
            "## Run calculate_kappa \n",
            "\n",
            "[Evaluation] Kappa: 0.5217\n",
            "\n",
            "[Evaluation] Classification Report:\n",
            "\n",
            "               precision    recall  f1-score   support\n",
            "\n",
            "    negative       0.71      0.74      0.73       171\n",
            "     neutral       0.72      0.60      0.65       227\n",
            "    positive       0.61      0.79      0.69       102\n",
            "\n",
            "    accuracy                           0.69       500\n",
            "   macro avg       0.68      0.71      0.69       500\n",
            "weighted avg       0.69      0.69      0.69       500\n",
            "\n",
            "##################\n",
            "[Saved] Date and Time : 20231205_1521\n"
          ]
        }
      ],
      "source": [
        "# Few Shot\n",
        "def run_Few_shot3__classification(df, output_dir):\n",
        "    prompt_name = \"10_Few_shot3\"\n",
        "    # Define the question and context\n",
        "    example_p = [\n",
        "    (\"Want to start reading Paper Towns tomorrow. My sister told me the movie was awesome! \", \"positive\"),\n",
        "    (\"Missing  Foo Fighters concert on the 12th at the gorge though so that's a major bummer\",  \"negative\"),\n",
        "    (\"Is anyone going to see Shawn in  NYC tomorrow\", \"neutral\"),\n",
        "    ]\n",
        "\n",
        "    system_prompt = \"Please help me to classify tweets for their sentiment.  \"\n",
        "    question = \"--- Is the sentiment for this tweet positive, negative or neutral (only responde with ['positive', 'neutral', 'negative'])?  \"\n",
        "\n",
        "    df[\"prompt\"] = df[\"text\"].apply(lambda text: few_shot_prompt_messages(system_prompt, text, question, example_p))\n",
        "    results[prompt_name]  = run_classification(prompt_name, df, output_dir, true_column)\n",
        "\n",
        "run_Few_shot3__classification(df, output_dir)"
      ]
    },
    {
      "cell_type": "markdown",
      "metadata": {
        "id": "NyGsz4do5vo7"
      },
      "source": [
        "## Chain of Thought Prompting\n"
      ]
    },
    {
      "cell_type": "code",
      "execution_count": null,
      "metadata": {
        "id": "s2KgVPgs5s7d",
        "colab": {
          "base_uri": "https://localhost:8080/"
        },
        "outputId": "f0b6bb81-98d5-47ff-80d1-5ee0bc8d0bfd"
      },
      "outputs": [
        {
          "output_type": "stream",
          "name": "stdout",
          "text": [
            "##################\n",
            "[START] Get thoughts for promptname: 11_COT\n"
          ]
        },
        {
          "output_type": "stream",
          "name": "stderr",
          "text": [
            "/usr/local/lib/python3.10/dist-packages/transformers/pipelines/base.py:1101: UserWarning: You seem to be using the pipelines sequentially on GPU. In order to maximize efficiency please use a dataset\n",
            "  warnings.warn(\n"
          ]
        },
        {
          "output_type": "stream",
          "name": "stdout",
          "text": [
            "##################\n",
            "[START] Promptname: 11_COT\n"
          ]
        },
        {
          "output_type": "stream",
          "name": "stderr",
          "text": [
            "/usr/local/lib/python3.10/dist-packages/transformers/pipelines/base.py:1101: UserWarning: You seem to be using the pipelines sequentially on GPU. In order to maximize efficiency please use a dataset\n",
            "  warnings.warn(\n"
          ]
        },
        {
          "output_type": "stream",
          "name": "stdout",
          "text": [
            "##################\n",
            "[Count Predictions: ] \n",
            " negative    181\n",
            "neutral     164\n",
            "positive    155\n",
            "Name: pred_11_COT, dtype: int64\n",
            "##################\n",
            "[Evaluation] Promptname: 11_COT\n",
            "## Run calcuate_classification_report \n",
            "neutral     227\n",
            "negative    171\n",
            "positive    102\n",
            "Name: sentiment, dtype: int64\n",
            "negative    181\n",
            "neutral     164\n",
            "positive    155\n",
            "Name: pred_11_COT, dtype: int64\n",
            "## Run calculate_kappa \n",
            "\n",
            "[Evaluation] Kappa: 0.5151\n",
            "\n",
            "[Evaluation] Classification Report:\n",
            "\n",
            "               precision    recall  f1-score   support\n",
            "\n",
            "    negative       0.73      0.78      0.76       171\n",
            "     neutral       0.74      0.53      0.62       227\n",
            "    positive       0.55      0.83      0.66       102\n",
            "\n",
            "    accuracy                           0.68       500\n",
            "   macro avg       0.67      0.71      0.68       500\n",
            "weighted avg       0.70      0.68      0.67       500\n",
            "\n",
            "##################\n",
            "[Saved] Date and Time : 20231205_1525\n"
          ]
        }
      ],
      "source": [
        "# Chain of Thought Prompting for Leisure Activity Classification\n",
        "def run_COT_classification(df, output_dir):\n",
        "    prompt_name = \"11_COT\"\n",
        "\n",
        "    # System prompt and questions specific to leisure activity classification\n",
        "    system_p = \"Please help me to classify tweets for their sentiment.  \"\n",
        "    question_thought = \"--- Is the sentiment for this tweet positive, negative or neutral. Think about it and provide some thoughts: \"\n",
        "    question_p = \"--- Now choose one of the following options: Is the sentiment for the tweet positive, negative or neutral take your thoughts into account and only responde with one word 'positive', 'neutral' or 'negative'. One-word reply: \"\n",
        "\n",
        "    # Applying the thought process prompt to the DataFrame\n",
        "    df[\"promptThought\"] = df[\"text\"].apply(lambda text: cot_prompt_thought_messages(system_p, text, question_thought))\n",
        "    df = run_thought_classification(prompt_name, df)\n",
        "\n",
        "    # Applying the final prompt, which includes the thought process, to the DataFrame\n",
        "    df[\"prompt\"] = df.apply(lambda row: cot_prompt_messages(system_p, row[\"text\"], row[\"thought\"], question_thought, question_p), axis=1)\n",
        "    results[prompt_name] = run_classification(prompt_name, df, output_dir, true_column)\n",
        "\n",
        "run_COT_classification(df, output_dir)\n"
      ]
    },
    {
      "cell_type": "code",
      "execution_count": null,
      "metadata": {
        "id": "0NCMN-gtJxAZ",
        "colab": {
          "base_uri": "https://localhost:8080/"
        },
        "outputId": "7fc40917-de00-456e-df77-4cb3526e1a71"
      },
      "outputs": [
        {
          "output_type": "stream",
          "name": "stdout",
          "text": [
            "##################\n",
            "[START] Get thoughts for promptname: 12_COT\n"
          ]
        },
        {
          "output_type": "stream",
          "name": "stderr",
          "text": [
            "/usr/local/lib/python3.10/dist-packages/transformers/pipelines/base.py:1101: UserWarning: You seem to be using the pipelines sequentially on GPU. In order to maximize efficiency please use a dataset\n",
            "  warnings.warn(\n"
          ]
        },
        {
          "output_type": "stream",
          "name": "stdout",
          "text": [
            "##################\n",
            "[START] Promptname: 12_COT\n"
          ]
        },
        {
          "output_type": "stream",
          "name": "stderr",
          "text": [
            "/usr/local/lib/python3.10/dist-packages/transformers/pipelines/base.py:1101: UserWarning: You seem to be using the pipelines sequentially on GPU. In order to maximize efficiency please use a dataset\n",
            "  warnings.warn(\n"
          ]
        },
        {
          "output_type": "stream",
          "name": "stdout",
          "text": [
            "##################\n",
            "[Count Predictions: ] \n",
            " neutral     196\n",
            "negative    162\n",
            "positive    142\n",
            "Name: pred_12_COT, dtype: int64\n",
            "##################\n",
            "[Evaluation] Promptname: 12_COT\n",
            "## Run calcuate_classification_report \n",
            "neutral     227\n",
            "negative    171\n",
            "positive    102\n",
            "Name: sentiment, dtype: int64\n",
            "neutral     196\n",
            "negative    162\n",
            "positive    142\n",
            "Name: pred_12_COT, dtype: int64\n",
            "## Run calculate_kappa \n",
            "\n",
            "[Evaluation] Kappa: 0.5347\n",
            "\n",
            "[Evaluation] Classification Report:\n",
            "\n",
            "               precision    recall  f1-score   support\n",
            "\n",
            "    negative       0.78      0.74      0.76       171\n",
            "     neutral       0.73      0.63      0.68       227\n",
            "    positive       0.56      0.77      0.65       102\n",
            "\n",
            "    accuracy                           0.70       500\n",
            "   macro avg       0.69      0.71      0.69       500\n",
            "weighted avg       0.71      0.70      0.70       500\n",
            "\n",
            "##################\n",
            "[Saved] Date and Time : 20231205_1530\n"
          ]
        }
      ],
      "source": [
        "def run_COT_fewshot_classification(df, output_dir):\n",
        "    prompt_name = \"12_COT\"\n",
        "\n",
        "    # System prompt and questions specific to leisure activity classification\n",
        "    system_p = \"Please help me to classify tweets for their sentiment.  \"\n",
        "    question_thought = \"--- Is the sentiment for this tweet positive, negative or neutral. Think about it and provide some thoughts: \"\n",
        "    question_p = \"--- Now choose one of the following options: 'positive','neutral' or 'negative'. One-word reply: \"\n",
        "\n",
        "\n",
        "    # Define few-shot examples for Chain of Thought\n",
        "    cot_few_shot_examples = [\n",
        "        {\n",
        "            \"user\": \"I had a fantastic day at the beach with my family!\",\n",
        "            \"assistant\": \"This tweet expresses happiness and enjoyment, indicating a positive sentiment about spending time at the beach.\",\n",
        "            \"annotation\": \"positive\"\n",
        "        },\n",
        "        {\n",
        "            \"user\": \"Feeling down today. Sometimes things just don't go as planned.\",\n",
        "            \"assistant\": \"The tweet mentions feelings of being 'down' and disappointment. This suggests a negative sentiment due to things not going as planned.\",\n",
        "            \"annotation\": \"negative\"\n",
        "        },\n",
        "        {\n",
        "            \"user\": \"Just another regular day at work. Nothing special.\",\n",
        "            \"assistant\": \"The tweet describes a routine day without any specific positive or negative emotions. This seems like a neutral sentiment.\",\n",
        "            \"annotation\": \"neutral\"\n",
        "        },\n",
        "        {\n",
        "            \"user\": \"Can't believe how bad the traffic was today. Totally ruined my mood.\",\n",
        "            \"assistant\": \"The tweet talks about frustration with bad traffic and a ruined mood, which clearly indicates a negative sentiment.\",\n",
        "            \"annotation\": \"negative\"\n",
        "        }\n",
        "    ]\n",
        "\n",
        "    # Applying the COT with few-shot examples to the DataFrame\n",
        "    df[\"promptThought\"] = df[\"text\"].apply(lambda text: cot_few_shot_THOUGHT_prompt_messages(system_p, cot_few_shot_examples, question_thought, text))\n",
        "    df = run_thought_classification(prompt_name, df)\n",
        "\n",
        "    # Applying the final prompt, which includes the thought process, to the DataFrame\n",
        "    df[\"prompt\"] = df.apply(lambda row: cot_few_shot_prompt_messages(system_p, cot_few_shot_examples, row[\"thought\"], question_thought, question_p, row[\"text\"]), axis=1)\n",
        "    results[prompt_name] = run_classification(prompt_name, df, output_dir, true_column)\n",
        "\n",
        "\n",
        "run_COT_fewshot_classification(df, output_dir)\n",
        "\n",
        "\n"
      ]
    },
    {
      "cell_type": "markdown",
      "metadata": {
        "id": "PFEqQZJyMjDn"
      },
      "source": [
        "## Self-Consistency Prompting\n"
      ]
    },
    {
      "cell_type": "code",
      "execution_count": null,
      "metadata": {
        "id": "G0E89hYJPtrL",
        "colab": {
          "base_uri": "https://localhost:8080/"
        },
        "outputId": "21581886-5185-4739-d812-98bc912228bd"
      },
      "outputs": [
        {
          "output_type": "stream",
          "name": "stdout",
          "text": [
            "##################\n",
            "[START] Promptname: 13_self_consistency1, Iteration: 1\n"
          ]
        },
        {
          "output_type": "stream",
          "name": "stderr",
          "text": [
            "/usr/local/lib/python3.10/dist-packages/transformers/pipelines/base.py:1101: UserWarning: You seem to be using the pipelines sequentially on GPU. In order to maximize efficiency please use a dataset\n",
            "  warnings.warn(\n"
          ]
        },
        {
          "output_type": "stream",
          "name": "stdout",
          "text": [
            "##################\n",
            "[START] Promptname: 13_self_consistency1, Iteration: 2\n"
          ]
        },
        {
          "output_type": "stream",
          "name": "stderr",
          "text": [
            "/usr/local/lib/python3.10/dist-packages/transformers/pipelines/base.py:1101: UserWarning: You seem to be using the pipelines sequentially on GPU. In order to maximize efficiency please use a dataset\n",
            "  warnings.warn(\n"
          ]
        },
        {
          "output_type": "stream",
          "name": "stdout",
          "text": [
            "##################\n",
            "[START] Promptname: 13_self_consistency1, Iteration: 3\n"
          ]
        },
        {
          "output_type": "stream",
          "name": "stderr",
          "text": [
            "/usr/local/lib/python3.10/dist-packages/transformers/pipelines/base.py:1101: UserWarning: You seem to be using the pipelines sequentially on GPU. In order to maximize efficiency please use a dataset\n",
            "  warnings.warn(\n"
          ]
        },
        {
          "output_type": "stream",
          "name": "stdout",
          "text": [
            "##################\n",
            "[START] Promptname: 13_self_consistency1, Iteration: 4\n"
          ]
        },
        {
          "output_type": "stream",
          "name": "stderr",
          "text": [
            "/usr/local/lib/python3.10/dist-packages/transformers/pipelines/base.py:1101: UserWarning: You seem to be using the pipelines sequentially on GPU. In order to maximize efficiency please use a dataset\n",
            "  warnings.warn(\n"
          ]
        },
        {
          "output_type": "stream",
          "name": "stdout",
          "text": [
            "##################\n",
            "[START] Promptname: 13_self_consistency1, Iteration: 5\n"
          ]
        },
        {
          "output_type": "stream",
          "name": "stderr",
          "text": [
            "/usr/local/lib/python3.10/dist-packages/transformers/pipelines/base.py:1101: UserWarning: You seem to be using the pipelines sequentially on GPU. In order to maximize efficiency please use a dataset\n",
            "  warnings.warn(\n"
          ]
        },
        {
          "output_type": "stream",
          "name": "stdout",
          "text": [
            "##################\n",
            "[Evaluation] Promptname: 13_self_consistency1\n",
            "## Run calcuate_classification_report \n",
            "neutral     227\n",
            "negative    171\n",
            "positive    102\n",
            "Name: sentiment, dtype: int64\n",
            "negative    204\n",
            "positive    154\n",
            "neutral     142\n",
            "Name: majority_vote, dtype: int64\n",
            "## Run calculate_kappa \n",
            "\n",
            "[Evaluation] Kappa: 0.5095\n",
            "\n",
            "[Evaluation] Classification Report:\n",
            "\n",
            "               precision    recall  f1-score   support\n",
            "\n",
            "    negative       0.69      0.82      0.75       171\n",
            "     neutral       0.75      0.47      0.58       227\n",
            "    positive       0.57      0.86      0.69       102\n",
            "\n",
            "    accuracy                           0.67       500\n",
            "   macro avg       0.67      0.72      0.67       500\n",
            "weighted avg       0.70      0.67      0.66       500\n",
            "\n",
            "##################\n",
            "[Saved] Date and Time : 20231205_1535\n"
          ]
        }
      ],
      "source": [
        "# self_consistency\n",
        "def run_self_consistency1__classification(df, output_dir):\n",
        "    prompt_name = \"13_self_consistency1\"\n",
        "    system_p = \"You are an assistant for classifiying tweets for their sentiment. \"\n",
        "    question = \"--- Is the sentiment for this tweet positive, negative or neutral? Only responde with ['positive', 'neutral', 'negative'] : \"\n",
        "\n",
        "    numberOfIterations = 5\n",
        "\n",
        "    df[\"prompt\"] = df[\"text\"].apply(lambda text: zero_shot_prompt_messages(system_p, text, question))\n",
        "    results[prompt_name]  = run_classification_self_consistency(prompt_name, df, output_dir, true_column, numberOfIterations)\n",
        "\n",
        "run_self_consistency1__classification(df, output_dir)\n"
      ]
    },
    {
      "cell_type": "code",
      "execution_count": null,
      "metadata": {
        "id": "e7z1kZZuPdQK",
        "colab": {
          "base_uri": "https://localhost:8080/"
        },
        "outputId": "ab3560a7-70d3-4a97-fd72-1b5e2e62b5b8"
      },
      "outputs": [
        {
          "output_type": "stream",
          "name": "stdout",
          "text": [
            "##################\n",
            "[START] Promptname: 14_self_consistency2, Iteration: 1\n"
          ]
        },
        {
          "output_type": "stream",
          "name": "stderr",
          "text": [
            "/usr/local/lib/python3.10/dist-packages/transformers/pipelines/base.py:1101: UserWarning: You seem to be using the pipelines sequentially on GPU. In order to maximize efficiency please use a dataset\n",
            "  warnings.warn(\n"
          ]
        },
        {
          "output_type": "stream",
          "name": "stdout",
          "text": [
            "##################\n",
            "[START] Promptname: 14_self_consistency2, Iteration: 2\n"
          ]
        },
        {
          "output_type": "stream",
          "name": "stderr",
          "text": [
            "/usr/local/lib/python3.10/dist-packages/transformers/pipelines/base.py:1101: UserWarning: You seem to be using the pipelines sequentially on GPU. In order to maximize efficiency please use a dataset\n",
            "  warnings.warn(\n"
          ]
        },
        {
          "output_type": "stream",
          "name": "stdout",
          "text": [
            "##################\n",
            "[START] Promptname: 14_self_consistency2, Iteration: 3\n"
          ]
        },
        {
          "output_type": "stream",
          "name": "stderr",
          "text": [
            "/usr/local/lib/python3.10/dist-packages/transformers/pipelines/base.py:1101: UserWarning: You seem to be using the pipelines sequentially on GPU. In order to maximize efficiency please use a dataset\n",
            "  warnings.warn(\n"
          ]
        },
        {
          "output_type": "stream",
          "name": "stdout",
          "text": [
            "##################\n",
            "[START] Promptname: 14_self_consistency2, Iteration: 4\n"
          ]
        },
        {
          "output_type": "stream",
          "name": "stderr",
          "text": [
            "/usr/local/lib/python3.10/dist-packages/transformers/pipelines/base.py:1101: UserWarning: You seem to be using the pipelines sequentially on GPU. In order to maximize efficiency please use a dataset\n",
            "  warnings.warn(\n"
          ]
        },
        {
          "output_type": "stream",
          "name": "stdout",
          "text": [
            "##################\n",
            "[START] Promptname: 14_self_consistency2, Iteration: 5\n"
          ]
        },
        {
          "output_type": "stream",
          "name": "stderr",
          "text": [
            "/usr/local/lib/python3.10/dist-packages/transformers/pipelines/base.py:1101: UserWarning: You seem to be using the pipelines sequentially on GPU. In order to maximize efficiency please use a dataset\n",
            "  warnings.warn(\n"
          ]
        },
        {
          "output_type": "stream",
          "name": "stdout",
          "text": [
            "##################\n",
            "[Evaluation] Promptname: 14_self_consistency2\n",
            "## Run calcuate_classification_report \n",
            "neutral     227\n",
            "negative    171\n",
            "positive    102\n",
            "Name: sentiment, dtype: int64\n",
            "negative    189\n",
            "neutral     185\n",
            "positive    126\n",
            "Name: majority_vote, dtype: int64\n",
            "## Run calculate_kappa \n",
            "\n",
            "[Evaluation] Kappa: 0.521\n",
            "\n",
            "[Evaluation] Classification Report:\n",
            "\n",
            "               precision    recall  f1-score   support\n",
            "\n",
            "    negative       0.70      0.78      0.74       171\n",
            "     neutral       0.72      0.59      0.65       227\n",
            "    positive       0.62      0.76      0.68       102\n",
            "\n",
            "    accuracy                           0.69       500\n",
            "   macro avg       0.68      0.71      0.69       500\n",
            "weighted avg       0.69      0.69      0.69       500\n",
            "\n",
            "##################\n",
            "[Saved] Date and Time : 20231205_1539\n"
          ]
        }
      ],
      "source": [
        "# self_consistency\n",
        "def run_self_consistency2__classification(df, output_dir):\n",
        "    prompt_name = \"14_self_consistency2\"\n",
        "\n",
        "    example_p = [\n",
        "        (\"Missing Foo Fighters concert on the 12th at the gorge though so that's a major bummer\",  \"negative\"),\n",
        "    ]\n",
        "    system_p = \"Please help me to classify tweets for their sentiment.  \"\n",
        "    question = \"--- Is the sentiment for this tweet positive, negative or neutral (only responde with ['positive', 'neutral', 'negative'])?  \"\n",
        "\n",
        "\n",
        "\n",
        "    numberOfIterations = 5\n",
        "    df[\"prompt\"] = df[\"text\"].apply(lambda text: few_shot_prompt_messages(system_p, text, question, example_p))\n",
        "\n",
        "    results[prompt_name]  = run_classification_self_consistency(prompt_name, df, output_dir, true_column, numberOfIterations)\n",
        "\n",
        "run_self_consistency2__classification(df, output_dir)\n"
      ]
    },
    {
      "cell_type": "code",
      "execution_count": null,
      "metadata": {
        "id": "o-xBkXO6RnH7",
        "colab": {
          "base_uri": "https://localhost:8080/"
        },
        "outputId": "92d588bd-8f22-4796-d217-4a6ad57ec006"
      },
      "outputs": [
        {
          "output_type": "stream",
          "name": "stdout",
          "text": [
            "##################\n",
            "[START] Promptname: 15_self_consistency3, Iteration: 1\n"
          ]
        },
        {
          "output_type": "stream",
          "name": "stderr",
          "text": [
            "/usr/local/lib/python3.10/dist-packages/transformers/pipelines/base.py:1101: UserWarning: You seem to be using the pipelines sequentially on GPU. In order to maximize efficiency please use a dataset\n",
            "  warnings.warn(\n"
          ]
        },
        {
          "output_type": "stream",
          "name": "stdout",
          "text": [
            "##################\n",
            "[START] Promptname: 15_self_consistency3, Iteration: 2\n"
          ]
        },
        {
          "output_type": "stream",
          "name": "stderr",
          "text": [
            "/usr/local/lib/python3.10/dist-packages/transformers/pipelines/base.py:1101: UserWarning: You seem to be using the pipelines sequentially on GPU. In order to maximize efficiency please use a dataset\n",
            "  warnings.warn(\n"
          ]
        },
        {
          "output_type": "stream",
          "name": "stdout",
          "text": [
            "##################\n",
            "[START] Promptname: 15_self_consistency3, Iteration: 3\n"
          ]
        },
        {
          "output_type": "stream",
          "name": "stderr",
          "text": [
            "/usr/local/lib/python3.10/dist-packages/transformers/pipelines/base.py:1101: UserWarning: You seem to be using the pipelines sequentially on GPU. In order to maximize efficiency please use a dataset\n",
            "  warnings.warn(\n"
          ]
        },
        {
          "output_type": "stream",
          "name": "stdout",
          "text": [
            "##################\n",
            "[START] Promptname: 15_self_consistency3, Iteration: 4\n"
          ]
        },
        {
          "output_type": "stream",
          "name": "stderr",
          "text": [
            "/usr/local/lib/python3.10/dist-packages/transformers/pipelines/base.py:1101: UserWarning: You seem to be using the pipelines sequentially on GPU. In order to maximize efficiency please use a dataset\n",
            "  warnings.warn(\n"
          ]
        },
        {
          "output_type": "stream",
          "name": "stdout",
          "text": [
            "##################\n",
            "[START] Promptname: 15_self_consistency3, Iteration: 5\n"
          ]
        },
        {
          "output_type": "stream",
          "name": "stderr",
          "text": [
            "/usr/local/lib/python3.10/dist-packages/transformers/pipelines/base.py:1101: UserWarning: You seem to be using the pipelines sequentially on GPU. In order to maximize efficiency please use a dataset\n",
            "  warnings.warn(\n"
          ]
        },
        {
          "output_type": "stream",
          "name": "stdout",
          "text": [
            "##################\n",
            "[Evaluation] Promptname: 15_self_consistency3\n",
            "## Run calcuate_classification_report \n",
            "neutral     227\n",
            "negative    171\n",
            "positive    102\n",
            "Name: sentiment, dtype: int64\n",
            "neutral     187\n",
            "negative    185\n",
            "positive    128\n",
            "Name: majority_vote, dtype: int64\n",
            "## Run calculate_kappa \n",
            "\n",
            "[Evaluation] Kappa: 0.5333\n",
            "\n",
            "[Evaluation] Classification Report:\n",
            "\n",
            "               precision    recall  f1-score   support\n",
            "\n",
            "    negative       0.71      0.77      0.74       171\n",
            "     neutral       0.73      0.60      0.66       227\n",
            "    positive       0.62      0.78      0.70       102\n",
            "\n",
            "    accuracy                           0.70       500\n",
            "   macro avg       0.69      0.72      0.70       500\n",
            "weighted avg       0.70      0.70      0.69       500\n",
            "\n",
            "##################\n",
            "[Saved] Date and Time : 20231205_1544\n"
          ]
        }
      ],
      "source": [
        "# self_consistency\n",
        "def run_self_consistency3__classification(df, output_dir):\n",
        "    prompt_name = \"15_self_consistency3\"\n",
        "\n",
        "    example_p = [\n",
        "      (\"Want to start reading Paper Towns tomorrow. My sister told me the movie was awesome! \", \"positive\"),\n",
        "      (\"Missing  Foo Fighters concert on the 12th at the gorge though so that's a major bummer\",  \"negative\"),\n",
        "      (\"Is anyone going to see Shawn in  NYC tomorrow\", \"neutral\"),\n",
        "    ]\n",
        "\n",
        "    system_prompt = \"Please help me to classify tweets for their sentiment.  \"\n",
        "    question = \"--- Is the sentiment for this tweet positive, negative or neutral (only responde with ['positive', 'neutral', 'negative'])?  \"\n",
        "\n",
        "\n",
        "\n",
        "    numberOfIterations = 5\n",
        "    df[\"prompt\"] = df[\"text\"].apply(lambda text: few_shot_prompt_messages(system_prompt, text, question, example_p))\n",
        "\n",
        "    results[prompt_name]  = run_classification_self_consistency(prompt_name, df, output_dir, true_column, numberOfIterations)\n",
        "\n",
        "run_self_consistency3__classification(df, output_dir)\n"
      ]
    },
    {
      "cell_type": "markdown",
      "metadata": {
        "id": "OUbLlYTWLZUp"
      },
      "source": [
        "# Save"
      ]
    },
    {
      "cell_type": "code",
      "execution_count": null,
      "metadata": {
        "id": "sZbozr-vLY7g"
      },
      "outputs": [],
      "source": [
        "import pickle\n",
        "\n",
        "current_date = datetime.now().strftime('%Y%m%d_%H%M')\n",
        "\n",
        "with open(os.path.join(output_dir, f\"results_{current_date}.pkl\"), 'wb') as fp:\n",
        "    pickle.dump(results, fp)\n"
      ]
    },
    {
      "cell_type": "code",
      "execution_count": null,
      "metadata": {
        "id": "UdwfV8tCAW5l",
        "colab": {
          "base_uri": "https://localhost:8080/",
          "height": 70
        },
        "outputId": "4f1b2668-8e3e-41da-965e-90fd28917e4d"
      },
      "outputs": [
        {
          "output_type": "execute_result",
          "data": {
            "text/plain": [
              "'\\nimport pickle\\nimport pandas as pd\\nimport numpy as np\\n\\n# Construct the file path\\nfile_path = os.path.join(output_dir, f\"results_20231130_1411.pkl\")\\n\\n# Read the file\\nwith open(file_path, \\'rb\\') as fp:\\n    results = pickle.load(fp)\\ncurrent_date = datetime.now().strftime(\\'%Y%m%d_%H%M\\')\\n'"
            ],
            "application/vnd.google.colaboratory.intrinsic+json": {
              "type": "string"
            }
          },
          "metadata": {},
          "execution_count": 38
        }
      ],
      "source": [
        "'''\n",
        "import pickle\n",
        "import pandas as pd\n",
        "import numpy as np\n",
        "\n",
        "# Construct the file path\n",
        "file_path = os.path.join(output_dir, f\"results_20231130_1411.pkl\")\n",
        "\n",
        "# Read the file\n",
        "with open(file_path, 'rb') as fp:\n",
        "    results = pickle.load(fp)\n",
        "current_date = datetime.now().strftime('%Y%m%d_%H%M')\n",
        "'''"
      ]
    },
    {
      "cell_type": "markdown",
      "metadata": {
        "id": "VB3ev2QR_tih"
      },
      "source": [
        "# Plot"
      ]
    },
    {
      "cell_type": "code",
      "execution_count": null,
      "metadata": {
        "id": "6r08nHqh_shX",
        "colab": {
          "base_uri": "https://localhost:8080/"
        },
        "outputId": "ef2b707f-d6fd-43ad-b02d-6d5a445ef25c"
      },
      "outputs": [
        {
          "output_type": "stream",
          "name": "stdout",
          "text": [
            "01_zeroshot1\n",
            "02_zeroshot2\n",
            "03_zeroshot3\n",
            "04_zeroshot4\n",
            "05_One_shot1\n",
            "06_One_shot2\n",
            "07_One_shot3\n",
            "08_Few_shot1\n",
            "09_Few_shot2\n",
            "10_Few_shot3\n",
            "11_COT\n",
            "12_COT\n",
            "13_self_consistency1\n",
            "14_self_consistency2\n",
            "15_self_consistency3\n"
          ]
        }
      ],
      "source": [
        "for key in results.keys():\n",
        "    print(key)"
      ]
    },
    {
      "cell_type": "code",
      "execution_count": null,
      "metadata": {
        "id": "r05gK58WWT0l",
        "colab": {
          "base_uri": "https://localhost:8080/",
          "height": 544
        },
        "outputId": "ea2cd41d-3a72-40da-f559-f0d9dd360576"
      },
      "outputs": [
        {
          "output_type": "stream",
          "name": "stderr",
          "text": [
            "WARNING:matplotlib.backends.backend_ps:The PostScript backend does not support transparency; partially transparent artists will be rendered opaque.\n"
          ]
        },
        {
          "output_type": "display_data",
          "data": {
            "text/plain": [
              "<Figure size 1000x500 with 1 Axes>"
            ],
            "image/png": "[encoded data removed]"
          },
          "metadata": {}
        }
      ],
      "source": [
        "import matplotlib.pyplot as plt\n",
        "\n",
        "current_date = datetime.now().strftime('%Y%m%d_%H%M')\n",
        "\n",
        "# Initialize lists to store the metrics and labels for x-axis\n",
        "kappa_values = []\n",
        "weighted_f1_scores = []\n",
        "macro_avg_f1_scores = []\n",
        "accuracy_values = []\n",
        "keys = []\n",
        "\n",
        "# Loop over the results dictionary to extract metrics\n",
        "for key, value in results.items():\n",
        "    if 'kappa' in value and 'classification_report_dict' in value:\n",
        "        keys.append(key)\n",
        "        kappa_values.append(value['kappa'])\n",
        "        weighted_f1_scores.append(value['classification_report_dict']['weighted avg']['f1-score'])\n",
        "        macro_avg_f1_scores.append(value['classification_report_dict']['macro avg']['f1-score'])\n",
        "        accuracy_values.append(value['classification_report_dict']['accuracy'])\n",
        "\n",
        "# Convert keys into positions on the x-axis\n",
        "x_positions = range(len(keys))\n",
        "\n",
        "# Plotting\n",
        "plt.figure(figsize=(10, 5))  # Set the figure size as needed\n",
        "\n",
        "# Creating a scatter plot for each metric using different markers and line styles\n",
        "plt.scatter(x_positions, kappa_values, c='black', marker='o', label='Kappa', s=50, facecolors='none')  # Circle\n",
        "plt.scatter(x_positions, weighted_f1_scores, c='black', marker='x', label='Weighted F1-Score', s=50)  # X marker\n",
        "plt.scatter(x_positions, macro_avg_f1_scores, c='black', marker='+', label='Macro Avg F1-Score', s=50)  # Plus marker\n",
        "plt.scatter(x_positions, accuracy_values, marker='^', label='Accuracy', s=50, facecolors='none', edgecolors='black')  # Triangle marker\n",
        "\n",
        "# Adding labels and title\n",
        "plt.xlabel('Keys')\n",
        "plt.ylabel('Scores')\n",
        "plt.title('Comparison of Kappa, Weighted F1-Score, and Macro Avg F1-Score')\n",
        "\n",
        "# Adding a legend to differentiate the points with markers\n",
        "plt.legend()\n",
        "\n",
        "# Set the position of the x ticks\n",
        "plt.xticks(x_positions, keys, rotation=90)\n",
        "\n",
        "# Show the plot\n",
        "plt.tight_layout()\n",
        "\n",
        "# Save the figure\n",
        "plt.savefig(os.path.join(output_dir, f\"results_{current_date}_metrics_comparison_plot.pdf\"), format='pdf', bbox_inches='tight')\n",
        "plt.savefig(os.path.join(output_dir, f\"results_{current_date}_metrics_comparison_plot.png\"), format='png', bbox_inches='tight')\n",
        "plt.savefig(os.path.join(output_dir, f\"results_{current_date}_metrics_comparison_plot.eps\"), format='eps', bbox_inches='tight')\n",
        "\n",
        "plt.show()\n",
        "\n"
      ]
    },
    {
      "cell_type": "markdown",
      "metadata": {
        "id": "nXMqcUZ9ESuP"
      },
      "source": [
        "# Table"
      ]
    },
    {
      "cell_type": "code",
      "execution_count": null,
      "metadata": {
        "id": "LxZxK9ekTesA",
        "colab": {
          "base_uri": "https://localhost:8080/"
        },
        "outputId": "dd10aa50-f3bf-4c49-c5de-79c0af525f35"
      },
      "outputs": [
        {
          "output_type": "stream",
          "name": "stdout",
          "text": [
            "                     Key   Kappa  Weighted F1-Score  Macro Avg F1-Score  \\\n",
            "0           01_zeroshot1  0.4954           0.670084            0.671910   \n",
            "1           02_zeroshot2  0.5125           0.668444            0.676206   \n",
            "2           03_zeroshot3  0.4599           0.615861            0.633488   \n",
            "3           04_zeroshot4  0.4505           0.608841            0.626114   \n",
            "4           05_One_shot1  0.5284           0.687568            0.690668   \n",
            "5           06_One_shot2  0.5191           0.683117            0.686763   \n",
            "6           07_One_shot3  0.4905           0.654530            0.662854   \n",
            "7           08_Few_shot1  0.5388           0.698243            0.702685   \n",
            "8           09_Few_shot2  0.5174           0.694415            0.685732   \n",
            "9           10_Few_shot3  0.5217           0.686381            0.690334   \n",
            "10                11_COT  0.5151           0.674377            0.678695   \n",
            "11                12_COT  0.5347           0.697869            0.693474   \n",
            "12  13_self_consistency1  0.5095           0.660729            0.673149   \n",
            "13  14_self_consistency2  0.5210           0.685395            0.689577   \n",
            "14  15_self_consistency3  0.5333           0.693811            0.698077   \n",
            "\n",
            "    Accuracy  \n",
            "0      0.670  \n",
            "1      0.676  \n",
            "2      0.636  \n",
            "3      0.628  \n",
            "4      0.690  \n",
            "5      0.686  \n",
            "6      0.662  \n",
            "7      0.700  \n",
            "8      0.696  \n",
            "9      0.688  \n",
            "10     0.678  \n",
            "11     0.696  \n",
            "12     0.672  \n",
            "13     0.688  \n",
            "14     0.696  \n"
          ]
        }
      ],
      "source": [
        "import pandas as pd\n",
        "\n",
        "# Create a DataFrame from the metrics\n",
        "df_metrics = pd.DataFrame({\n",
        "    'Key': keys,\n",
        "    'Kappa': kappa_values,\n",
        "    'Weighted F1-Score': weighted_f1_scores,\n",
        "    'Macro Avg F1-Score': macro_avg_f1_scores,\n",
        "    'Accuracy': accuracy_values\n",
        "})\n",
        "\n",
        "# Display the DataFrame\n",
        "print(df_metrics)\n",
        "\n",
        "# Save the DataFrame to a CSV file\n",
        "df_metrics.to_csv(os.path.join(output_dir, f\"results_{current_date}_metrics_table.csv\"), index=False)\n",
        "\n",
        "# If you want to save it to Excel, use:\n",
        "df_metrics.to_excel(os.path.join(output_dir, f\"results_{current_date}_metrics_table.xlsx\"), index=False)\n"
      ]
    },
    {
      "cell_type": "code",
      "execution_count": null,
      "metadata": {
        "id": "315QBUL3UW5p",
        "colab": {
          "base_uri": "https://localhost:8080/"
        },
        "outputId": "31ef7483-54f5-481b-f056-b5167c7065a1"
      },
      "outputs": [
        {
          "output_type": "stream",
          "name": "stdout",
          "text": [
            "                     Key   Kappa  Weighted F1-Score  Macro Avg F1-Score  \\\n",
            "7           08_Few_shot1  0.5388           0.698243            0.702685   \n",
            "11                12_COT  0.5347           0.697869            0.693474   \n",
            "14  15_self_consistency3  0.5333           0.693811            0.698077   \n",
            "4           05_One_shot1  0.5284           0.687568            0.690668   \n",
            "9           10_Few_shot3  0.5217           0.686381            0.690334   \n",
            "13  14_self_consistency2  0.5210           0.685395            0.689577   \n",
            "5           06_One_shot2  0.5191           0.683117            0.686763   \n",
            "8           09_Few_shot2  0.5174           0.694415            0.685732   \n",
            "10                11_COT  0.5151           0.674377            0.678695   \n",
            "1           02_zeroshot2  0.5125           0.668444            0.676206   \n",
            "12  13_self_consistency1  0.5095           0.660729            0.673149   \n",
            "0           01_zeroshot1  0.4954           0.670084            0.671910   \n",
            "6           07_One_shot3  0.4905           0.654530            0.662854   \n",
            "2           03_zeroshot3  0.4599           0.615861            0.633488   \n",
            "3           04_zeroshot4  0.4505           0.608841            0.626114   \n",
            "\n",
            "    Accuracy  \n",
            "7      0.700  \n",
            "11     0.696  \n",
            "14     0.696  \n",
            "4      0.690  \n",
            "9      0.688  \n",
            "13     0.688  \n",
            "5      0.686  \n",
            "8      0.696  \n",
            "10     0.678  \n",
            "1      0.676  \n",
            "12     0.672  \n",
            "0      0.670  \n",
            "6      0.662  \n",
            "2      0.636  \n",
            "3      0.628  \n"
          ]
        }
      ],
      "source": [
        "# Sort the DataFrame by the 'Kappa' column in descending order\n",
        "df_metrics_sorted = df_metrics.sort_values('Kappa', ascending=False)\n",
        "\n",
        "# Display the sorted DataFrame\n",
        "print(df_metrics_sorted)"
      ]
    },
    {
      "cell_type": "markdown",
      "metadata": {
        "id": "JyCEd01DvPO3"
      },
      "source": [
        "# Terminate"
      ]
    },
    {
      "cell_type": "code",
      "execution_count": null,
      "metadata": {
        "id": "uMSt-daPNjKH"
      },
      "outputs": [],
      "source": [
        "from google.colab import runtime\n",
        "runtime.unassign()"
      ]
    }
  ],
  "metadata": {
    "accelerator": "GPU",
    "colab": {
      "machine_shape": "hm",
      "provenance": [],
      "toc_visible": true,
      "gpuType": "A100",
      "include_colab_link": true
    },
    "kernelspec": {
      "display_name": "Python 3",
      "name": "python3"
    },
    "language_info": {
      "name": "python"
    },
    "widgets": {
      "application/vnd.jupyter.widget-state+json": {
        "8469c4da1f3e49b2a18f18353a2a8615": {
          "model_module": "@jupyter-widgets/controls",
          "model_name": "HBoxModel",
          "model_module_version": "1.5.0",
          "state": {
            "_dom_classes": [],
            "_model_module": "@jupyter-widgets/controls",
            "_model_module_version": "1.5.0",
            "_model_name": "HBoxModel",
            "_view_count": null,
            "_view_module": "@jupyter-widgets/controls",
            "_view_module_version": "1.5.0",
            "_view_name": "HBoxView",
            "box_style": "",
            "children": [
              "IPY_MODEL_a50be26b8f8d4b6ba343399ffce7799a",
              "IPY_MODEL_09012cd2231e4df587aeab976e471612",
              "IPY_MODEL_d3810814b07e4b42ac2d7f6006852ac9"
            ],
            "layout": "IPY_MODEL_7eb1fabbccca4027b4a0fbb9eb6b6862"
          }
        },
        "a50be26b8f8d4b6ba343399ffce7799a": {
          "model_module": "@jupyter-widgets/controls",
          "model_name": "HTMLModel",
          "model_module_version": "1.5.0",
          "state": {
            "_dom_classes": [],
            "_model_module": "@jupyter-widgets/controls",
            "_model_module_version": "1.5.0",
            "_model_name": "HTMLModel",
            "_view_count": null,
            "_view_module": "@jupyter-widgets/controls",
            "_view_module_version": "1.5.0",
            "_view_name": "HTMLView",
            "description": "",
            "description_tooltip": null,
            "layout": "IPY_MODEL_f8bf6296d7ae42148373f8744eeb9eac",
            "placeholder": "​",
            "style": "IPY_MODEL_b26f5ddc703e408aa2c6cb6d23a30226",
            "value": "Loading checkpoint shards: 100%"
          }
        },
        "09012cd2231e4df587aeab976e471612": {
          "model_module": "@jupyter-widgets/controls",
          "model_name": "FloatProgressModel",
          "model_module_version": "1.5.0",
          "state": {
            "_dom_classes": [],
            "_model_module": "@jupyter-widgets/controls",
            "_model_module_version": "1.5.0",
            "_model_name": "FloatProgressModel",
            "_view_count": null,
            "_view_module": "@jupyter-widgets/controls",
            "_view_module_version": "1.5.0",
            "_view_name": "ProgressView",
            "bar_style": "success",
            "description": "",
            "description_tooltip": null,
            "layout": "IPY_MODEL_d9ab1ff44a9c489290604eaa63090a3c",
            "max": 8,
            "min": 0,
            "orientation": "horizontal",
            "style": "IPY_MODEL_02fb5d3283e3448baf197aaea924fc3e",
            "value": 8
          }
        },
        "d3810814b07e4b42ac2d7f6006852ac9": {
          "model_module": "@jupyter-widgets/controls",
          "model_name": "HTMLModel",
          "model_module_version": "1.5.0",
          "state": {
            "_dom_classes": [],
            "_model_module": "@jupyter-widgets/controls",
            "_model_module_version": "1.5.0",
            "_model_name": "HTMLModel",
            "_view_count": null,
            "_view_module": "@jupyter-widgets/controls",
            "_view_module_version": "1.5.0",
            "_view_name": "HTMLView",
            "description": "",
            "description_tooltip": null,
            "layout": "IPY_MODEL_9fe7ac4b75594fddb1c37de54df845db",
            "placeholder": "​",
            "style": "IPY_MODEL_3f1ad42a64ed4a32968deef16e8c3773",
            "value": " 8/8 [00:06&lt;00:00,  1.29it/s]"
          }
        },
        "7eb1fabbccca4027b4a0fbb9eb6b6862": {
          "model_module": "@jupyter-widgets/base",
          "model_name": "LayoutModel",
          "model_module_version": "1.2.0",
          "state": {
            "_model_module": "@jupyter-widgets/base",
            "_model_module_version": "1.2.0",
            "_model_name": "LayoutModel",
            "_view_count": null,
            "_view_module": "@jupyter-widgets/base",
            "_view_module_version": "1.2.0",
            "_view_name": "LayoutView",
            "align_content": null,
            "align_items": null,
            "align_self": null,
            "border": null,
            "bottom": null,
            "display": null,
            "flex": null,
            "flex_flow": null,
            "grid_area": null,
            "grid_auto_columns": null,
            "grid_auto_flow": null,
            "grid_auto_rows": null,
            "grid_column": null,
            "grid_gap": null,
            "grid_row": null,
            "grid_template_areas": null,
            "grid_template_columns": null,
            "grid_template_rows": null,
            "height": null,
            "justify_content": null,
            "justify_items": null,
            "left": null,
            "margin": null,
            "max_height": null,
            "max_width": null,
            "min_height": null,
            "min_width": null,
            "object_fit": null,
            "object_position": null,
            "order": null,
            "overflow": null,
            "overflow_x": null,
            "overflow_y": null,
            "padding": null,
            "right": null,
            "top": null,
            "visibility": null,
            "width": null
          }
        },
        "f8bf6296d7ae42148373f8744eeb9eac": {
          "model_module": "@jupyter-widgets/base",
          "model_name": "LayoutModel",
          "model_module_version": "1.2.0",
          "state": {
            "_model_module": "@jupyter-widgets/base",
            "_model_module_version": "1.2.0",
            "_model_name": "LayoutModel",
            "_view_count": null,
            "_view_module": "@jupyter-widgets/base",
            "_view_module_version": "1.2.0",
            "_view_name": "LayoutView",
            "align_content": null,
            "align_items": null,
            "align_self": null,
            "border": null,
            "bottom": null,
            "display": null,
            "flex": null,
            "flex_flow": null,
            "grid_area": null,
            "grid_auto_columns": null,
            "grid_auto_flow": null,
            "grid_auto_rows": null,
            "grid_column": null,
            "grid_gap": null,
            "grid_row": null,
            "grid_template_areas": null,
            "grid_template_columns": null,
            "grid_template_rows": null,
            "height": null,
            "justify_content": null,
            "justify_items": null,
            "left": null,
            "margin": null,
            "max_height": null,
            "max_width": null,
            "min_height": null,
            "min_width": null,
            "object_fit": null,
            "object_position": null,
            "order": null,
            "overflow": null,
            "overflow_x": null,
            "overflow_y": null,
            "padding": null,
            "right": null,
            "top": null,
            "visibility": null,
            "width": null
          }
        },
        "b26f5ddc703e408aa2c6cb6d23a30226": {
          "model_module": "@jupyter-widgets/controls",
          "model_name": "DescriptionStyleModel",
          "model_module_version": "1.5.0",
          "state": {
            "_model_module": "@jupyter-widgets/controls",
            "_model_module_version": "1.5.0",
            "_model_name": "DescriptionStyleModel",
            "_view_count": null,
            "_view_module": "@jupyter-widgets/base",
            "_view_module_version": "1.2.0",
            "_view_name": "StyleView",
            "description_width": ""
          }
        },
        "d9ab1ff44a9c489290604eaa63090a3c": {
          "model_module": "@jupyter-widgets/base",
          "model_name": "LayoutModel",
          "model_module_version": "1.2.0",
          "state": {
            "_model_module": "@jupyter-widgets/base",
            "_model_module_version": "1.2.0",
            "_model_name": "LayoutModel",
            "_view_count": null,
            "_view_module": "@jupyter-widgets/base",
            "_view_module_version": "1.2.0",
            "_view_name": "LayoutView",
            "align_content": null,
            "align_items": null,
            "align_self": null,
            "border": null,
            "bottom": null,
            "display": null,
            "flex": null,
            "flex_flow": null,
            "grid_area": null,
            "grid_auto_columns": null,
            "grid_auto_flow": null,
            "grid_auto_rows": null,
            "grid_column": null,
            "grid_gap": null,
            "grid_row": null,
            "grid_template_areas": null,
            "grid_template_columns": null,
            "grid_template_rows": null,
            "height": null,
            "justify_content": null,
            "justify_items": null,
            "left": null,
            "margin": null,
            "max_height": null,
            "max_width": null,
            "min_height": null,
            "min_width": null,
            "object_fit": null,
            "object_position": null,
            "order": null,
            "overflow": null,
            "overflow_x": null,
            "overflow_y": null,
            "padding": null,
            "right": null,
            "top": null,
            "visibility": null,
            "width": null
          }
        },
        "02fb5d3283e3448baf197aaea924fc3e": {
          "model_module": "@jupyter-widgets/controls",
          "model_name": "ProgressStyleModel",
          "model_module_version": "1.5.0",
          "state": {
            "_model_module": "@jupyter-widgets/controls",
            "_model_module_version": "1.5.0",
            "_model_name": "ProgressStyleModel",
            "_view_count": null,
            "_view_module": "@jupyter-widgets/base",
            "_view_module_version": "1.2.0",
            "_view_name": "StyleView",
            "bar_color": null,
            "description_width": ""
          }
        },
        "9fe7ac4b75594fddb1c37de54df845db": {
          "model_module": "@jupyter-widgets/base",
          "model_name": "LayoutModel",
          "model_module_version": "1.2.0",
          "state": {
            "_model_module": "@jupyter-widgets/base",
            "_model_module_version": "1.2.0",
            "_model_name": "LayoutModel",
            "_view_count": null,
            "_view_module": "@jupyter-widgets/base",
            "_view_module_version": "1.2.0",
            "_view_name": "LayoutView",
            "align_content": null,
            "align_items": null,
            "align_self": null,
            "border": null,
            "bottom": null,
            "display": null,
            "flex": null,
            "flex_flow": null,
            "grid_area": null,
            "grid_auto_columns": null,
            "grid_auto_flow": null,
            "grid_auto_rows": null,
            "grid_column": null,
            "grid_gap": null,
            "grid_row": null,
            "grid_template_areas": null,
            "grid_template_columns": null,
            "grid_template_rows": null,
            "height": null,
            "justify_content": null,
            "justify_items": null,
            "left": null,
            "margin": null,
            "max_height": null,
            "max_width": null,
            "min_height": null,
            "min_width": null,
            "object_fit": null,
            "object_position": null,
            "order": null,
            "overflow": null,
            "overflow_x": null,
            "overflow_y": null,
            "padding": null,
            "right": null,
            "top": null,
            "visibility": null,
            "width": null
          }
        },
        "3f1ad42a64ed4a32968deef16e8c3773": {
          "model_module": "@jupyter-widgets/controls",
          "model_name": "DescriptionStyleModel",
          "model_module_version": "1.5.0",
          "state": {
            "_model_module": "@jupyter-widgets/controls",
            "_model_module_version": "1.5.0",
            "_model_name": "DescriptionStyleModel",
            "_view_count": null,
            "_view_module": "@jupyter-widgets/base",
            "_view_module_version": "1.2.0",
            "_view_name": "StyleView",
            "description_width": ""
          }
        }
      }
    }
  },
  "nbformat": 4,
  "nbformat_minor": 0
}